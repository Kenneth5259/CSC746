{
 "cells": [
  {
   "cell_type": "markdown",
   "metadata": {},
   "source": [
    "# Variable\n",
    "\n",
    "- Specific, case-sensitive name\n",
    "- Call up value through variable name"
   ]
  },
  {
   "cell_type": "code",
   "execution_count": null,
   "metadata": {},
   "outputs": [],
   "source": [
    "# Comment symbol: #\n",
    "# Examples: height - 1.81m, weight - 70.5 kg\n",
    "# type declaration is not needed\n",
    "height = 1.81\n",
    "weight = 70.5\n",
    "\n",
    "# print out value\n",
    "print(height)\n",
    "\n",
    "# print is not necessary if you want to check the value of a variable\n",
    "weight"
   ]
  },
  {
   "cell_type": "markdown",
   "metadata": {},
   "source": [
    "# Python Data Types\n",
    "- float: real numbers\n",
    "- int: integer numbers  \n",
    "- str: string, text (You can use either ' or \" to define a string)\n",
    "- bool: True, False\n",
    "- list[]: a collection of values (don't have to be the same type)\n",
    "- tuple(): an immutable list\n",
    "- dictionary{}: a collection of key and value pairs\n",
    "\n",
    "##### Note: \n",
    " - Use type() function to check data type\n",
    " - To concatenate 2 elements, both elements must be strings. \n",
    " - Use str() function to convert an element to string. "
   ]
  },
  {
   "cell_type": "code",
   "execution_count": null,
   "metadata": {},
   "outputs": [],
   "source": [
    "height = 1.81\n",
    "print(\"height: value(\" + str(height) +\") type(\" + str(type(height)) + \")\") \n",
    "\n",
    "rank = 1\n",
    "print(\"rank: value(\" + str(rank) +\") type(\" + str(type(rank)) + \")\") \n",
    "\n",
    "name = \"Jack\"\n",
    "print(\"name: value(\" + name +\") type(\" + str(type(name)) + \")\") \n",
    "\n",
    "tall = True\n",
    "print(\"tall: value(\" + str(tall) +\") type(\" + str(type(tall)) + \")\") \n",
    "\n",
    "fam = [1.73, 1.68, 1.71, 1.89]\n",
    "print(\"fam: value(\" + str(fam) +\") type(\" + str(type(fam)) + \")\")\n",
    "\n",
    "# Elements can be different data types\n",
    "fam1 = [\"liz\", 1.73, \"emma\", 1.68, \"mom\", 1.71, \"dad\", 1.89]  \n",
    "print(\"fam1:\")\n",
    "print(fam1)\n",
    "\n",
    "fam2 = [[\"liz\", 1.73],\n",
    "[\"emma\", 1.68],\n",
    "[\"mom\", 1.71],\n",
    "[\"dad\", 1.89]]\n",
    "print(\"fam2:\")\n",
    "print(fam2)\n",
    "\n",
    "# Manipulate list\n",
    "print(\"fam1[2]:\")\n",
    "print(fam1[2])\n",
    "print(\"fam1[-1]:\")\n",
    "print(fam1[-1])\n",
    "print(\"fam1[3:5]:\")\n",
    "print(fam1[3:5])\n",
    "print(\"fam1[:4]:\")\n",
    "print(fam1[:4])\n",
    "print(\"fam1[5:]:\")\n",
    "print(fam1[5:])\n",
    "\n",
    "fam1[7] = 1.86\n",
    "print(\"fam1:\")\n",
    "print(fam1)\n",
    "\n",
    "fam1[0:2] = [\"lisa\", 1.74]\n",
    "print(\"fam1:\")\n",
    "print(fam1)\n",
    "\n",
    "fam + [\"me\", 1.79]\n",
    "print(\"fam1:\")\n",
    "print(fam1)\n",
    "\n",
    "fam_ext = fam1 + [\"me\", 1.79]\n",
    "del(fam1[2])  \n",
    "print(\"fam1:\")\n",
    "print(fam1)\n",
    "\n",
    "# dictinary\n",
    "fam3 = {\"liz\": 1.73, \"emma\": 1.68, \"mom\": 1.71, \"dad\": 1.89}  \n",
    "for key in fam3.keys():\n",
    "    if key == \"emma\":\n",
    "        print(\"emma's height is \" + str(fam3.get(\"emma\")))"
   ]
  },
  {
   "cell_type": "markdown",
   "metadata": {},
   "source": [
    "# Get input and type conversion\n",
    "Use input function to get input. All inputs are strings. To convert to other types, use type casting.  "
   ]
  },
  {
   "cell_type": "code",
   "execution_count": null,
   "metadata": {},
   "outputs": [],
   "source": [
    "birth_year = input('Birth year:')\n",
    "age = 2021 - int(birth_year)\n",
    "print(age)"
   ]
  },
  {
   "cell_type": "markdown",
   "metadata": {},
   "source": [
    "# Functions & Methods\n",
    "- Predefined functions \n",
    "- User defined functions\n",
    "- Object have methods associated, depending on type"
   ]
  },
  {
   "cell_type": "code",
   "execution_count": null,
   "metadata": {},
   "outputs": [],
   "source": [
    "# Predefined function\n",
    "fam = [1.73, 1.68, 1.71, 1.89]\n",
    "print(max(fam))\n",
    "\n",
    "color = [\"red\", \"blue\", \"yellow\", \"green\"]\n",
    "print(min(color))\n",
    "\n",
    "print(round(4/3, 2))\n",
    "print(len(\"string\"))\n",
    "\n",
    "# User defined function\n",
    "def add(x, y):\n",
    "    return x + y\n",
    "\n",
    "print(\"x + y: \" + str(add(3, 5)))\n",
    "\n",
    "# Mehtods\n",
    "#list\n",
    "fam1 = [\"liz\", 1.73, \"emma\", 1.68, \"mom\", 1.71, \"dad\", 1.89] \n",
    "print(fam1.index(\"emma\"))\n",
    "print(fam1.count(1.71))\n",
    "fam1.append(\"me\")\n",
    "print(fam1)\n",
    "fam1.clear()\n",
    "print(fam1)\n",
    "\n",
    "#string\n",
    "sister = \"liz\"\n",
    "print(sister.capitalize())\n",
    "print(sister.replace('z', 'sa'))\n",
    "\n",
    "fruit_str = \"apple banana pear strawberry watermelon peach\"\n",
    "fruit_list = fruit_str.split()\n",
    "print(fruit_list)"
   ]
  },
  {
   "cell_type": "markdown",
   "metadata": {},
   "source": [
    "## Run the program and complete the following exercises. (20 points)\n",
    "1. (8 points) Write a program to calculate BMI. \n",
    "    The Body Mass Index (BMI) formula is defined as follows:\n",
    "\n",
    "    $BMI = 703 \\times \\frac{Weight(lbs)}{Height(in)^{2}}$\n",
    "    Complete the code in the following code cell to\n",
    "    - Define a function (CalculateBMI) to calculate the BMI value with two parameters(weight and height) and return the BMI value to the caller. \n",
    "    - Ask the user to input weight in pounds and height in inches.\n",
    "    - Call CalculateBMI function and print the BMI value to the screen.\n",
    "    - Provide necessary prompt to the user to earn full credits."
   ]
  },
  {
   "cell_type": "code",
   "execution_count": 6,
   "metadata": {},
   "outputs": [
    {
     "name": "stdout",
     "output_type": "stream",
     "text": [
      "Please enter your weight in pounds: 167\n",
      "Please enter your height in inches: 67\n",
      "Your BMI is: 27.157496101581643\n"
     ]
    }
   ],
   "source": [
    "# Define the CalculateBMI function\n",
    "def CalculateBMI(weight, height):\n",
    "    \n",
    "    # Return the calculated value\n",
    "    return (730 * weight / (height * height))\n",
    "\n",
    "\n",
    "# Ask user to input weight and height\n",
    "weight = input(\"Please enter your weight in pounds: \")\n",
    "height = input(\"Please enter your height in inches: \")\n",
    "\n",
    "# Convert to float\n",
    "weight = float(weight)\n",
    "height = float(height)\n",
    "\n",
    "# Call the CalculateBMI function with the user data and print the BMI value to the screen\n",
    "bmi = CalculateBMI(weight, height)\n",
    "print(\"Your BMI is: %s\" % bmi)\n"
   ]
  },
  {
   "cell_type": "markdown",
   "metadata": {},
   "source": [
    "2. (12 points) Write a program to convert numbers to name of a month. Complete the code in the following code cell to\n",
    "    - Define a dictionary for month names, so when a user input a number as the key, it will return the name of the month as the value. For example, key: 1, value: January.\n",
    "    - Ask user to input numbers and your program will return the corresponding month names. \n",
    "    - Print the names to the screen.\n",
    "    - Provide necessary prompt to the user to earn full credits.<br>\n",
    "\n",
    "**Note:** \n",
    "    1. If the user input any number that is not in the range of 1 to 12, you should print error message to the user.\n",
    "    2. The user can input more than one numbers with space in between. You should be able to process multiple numbers correctly. \n",
    "    \n",
    "Sample run:\n",
    "Please input numbers for the month (1-12):\n",
    "3 5 15 11\n",
    "\n",
    "The month(s) are<br>\n",
    "March<br>\n",
    "May<br>\n",
    "15 is an invalid input<br>\n",
    "November<br>  "
   ]
  },
  {
   "cell_type": "code",
   "execution_count": 11,
   "metadata": {},
   "outputs": [
    {
     "name": "stdout",
     "output_type": "stream",
     "text": [
      "Please input numbers for the month(1-12): 1 2 3 4 12 11\n",
      "January\n",
      "February\n",
      "March\n",
      "April\n",
      "December\n",
      "November\n"
     ]
    }
   ],
   "source": [
    "# Define the dictionary \n",
    "month_dict = {\n",
    "    \"1\": \"January\", \n",
    "    \"2\": \"February\", \n",
    "    \"3\": \"March\",\n",
    "    \"4\": \"April\",\n",
    "    \"5\": \"May\",\n",
    "    \"6\": \"June\",\n",
    "    \"7\": \"July\",\n",
    "    \"8\": \"August\",\n",
    "    \"9\": \"September\",\n",
    "    \"10\": \"October\",\n",
    "    \"11\": \"November\",\n",
    "    \"12\": \"December\"\n",
    "}\n",
    "\n",
    "# Ask user to input numbers\n",
    "months = input(\"Please input numbers for the month(1-12): \")\n",
    "\n",
    "# Split input into array\n",
    "months = months.split(\" \")\n",
    "\n",
    "# Loop through the numbers and output the corresponding month name to the screen\n",
    "for month in months:\n",
    "    \n",
    "    # Check for existenct against default return\n",
    "    if month_dict.get(month) is not None:\n",
    "        \n",
    "        # Print the Output\n",
    "        print(month_dict.get(month))\n",
    "    \n",
    "    # Handle an invalid input\n",
    "    else:\n",
    "        \n",
    "        # Print the default response\n",
    "        print(\"%s is an invalid input.\" % month)\n"
   ]
  },
  {
   "cell_type": "markdown",
   "metadata": {},
   "source": [
    "3. Complete and test your code. Submit this file to the Blackboard. "
   ]
  },
  {
   "cell_type": "code",
   "execution_count": null,
   "metadata": {},
   "outputs": [],
   "source": []
  }
 ],
 "metadata": {
  "kernelspec": {
   "display_name": "Python 3 (ipykernel)",
   "language": "python",
   "name": "python3"
  },
  "language_info": {
   "codemirror_mode": {
    "name": "ipython",
    "version": 3
   },
   "file_extension": ".py",
   "mimetype": "text/x-python",
   "name": "python",
   "nbconvert_exporter": "python",
   "pygments_lexer": "ipython3",
   "version": "3.8.8"
  }
 },
 "nbformat": 4,
 "nbformat_minor": 4
}
