{
 "cells": [
  {
   "cell_type": "markdown",
   "metadata": {},
   "source": [
    "# Setup\n",
    "\n",
    "First, let's import a few common modules, ensure MatplotLib plots figures inline and prepare a function to save the figures. We also check that Python 3.5 or later is installed, as well as Scikit-Learn ≥0.20. You don't need to change any code in the following cell, just run it."
   ]
  },
  {
   "cell_type": "code",
   "execution_count": 274,
   "metadata": {},
   "outputs": [],
   "source": [
    "# Python ≥3.5 is required\n",
    "import sys\n",
    "assert sys.version_info >= (3, 5)\n",
    "\n",
    "# Scikit-Learn ≥0.20 is required\n",
    "import sklearn\n",
    "assert sklearn.__version__ >= \"0.20\"\n",
    "\n",
    "# Common imports\n",
    "import numpy as np\n",
    "import os\n",
    "\n",
    "# to make this notebook's output stable across runs\n",
    "np.random.seed(42)\n",
    "\n",
    "# To plot pretty figures\n",
    "%matplotlib inline\n",
    "import matplotlib as mpl\n",
    "import matplotlib.pyplot as plt\n",
    "mpl.rc('axes', labelsize=14)\n",
    "mpl.rc('xtick', labelsize=12)\n",
    "mpl.rc('ytick', labelsize=12)\n",
    "\n",
    "# Where to save the figures\n",
    "PROJECT_ROOT_DIR = \".\"\n",
    "CHAPTER_ID = \"training_linear_models\"\n",
    "IMAGES_PATH = os.path.join(PROJECT_ROOT_DIR, \"images\", CHAPTER_ID)\n",
    "os.makedirs(IMAGES_PATH, exist_ok=True)\n",
    "\n",
    "def save_fig(fig_id, tight_layout=True, fig_extension=\"png\", resolution=300):\n",
    "    path = os.path.join(IMAGES_PATH, fig_id + \".\" + fig_extension)\n",
    "    print(\"Saving figure\", fig_id)\n",
    "    if tight_layout:\n",
    "        plt.tight_layout()\n",
    "    plt.savefig(path, format=fig_extension, dpi=resolution)"
   ]
  },
  {
   "cell_type": "markdown",
   "metadata": {},
   "source": [
    "# Read the dataset "
   ]
  },
  {
   "cell_type": "code",
   "execution_count": 264,
   "metadata": {},
   "outputs": [],
   "source": [
    "# fields are separated by comma and skip the first row (titles) when reading\n",
    "data = np.loadtxt(\"hw03_data.txt\", skiprows=1, dtype = \"float\", delimiter=\",\")\n",
    "\n",
    "# Scale the data with sklearn StandardScaler\n",
    "# Write your code here\n",
    "\n",
    "# create instance of StandardScaler\n",
    "scaler = sklearn.preprocessing.StandardScaler()\n",
    "\n",
    "# fit and scale the data\n",
    "scaled_data = scaler.fit_transform(data)\n",
    "\n",
    "# Designate scaled and unscaled X/y values\n",
    "X = scaled_data[:, [0]]\n",
    "y = scaled_data[:, [1]]\n",
    "X_unscaled = data[:, [0]]\n",
    "y_unscaled = data[:, [1]]"
   ]
  },
  {
   "cell_type": "markdown",
   "metadata": {},
   "source": [
    "# Visualize the dataset"
   ]
  },
  {
   "cell_type": "code",
   "execution_count": 265,
   "metadata": {
    "scrolled": true
   },
   "outputs": [
    {
     "name": "stdout",
     "output_type": "stream",
     "text": [
      "Saving figure generated_data_plot\n"
     ]
    },
    {
     "data": {
      "image/png": "[encoded data removed]",
      "text/plain": [
       "<Figure size 432x288 with 1 Axes>"
      ]
     },
     "metadata": {
      "needs_background": "light"
     },
     "output_type": "display_data"
    }
   ],
   "source": [
    "# Write your code here\n",
    "\n",
    "# Generate a plot of the original data\n",
    "plt.plot(X_unscaled, y_unscaled, \"b.\")\n",
    "plt.xlabel(\"R&D Spending\", fontsize=18)\n",
    "plt.ylabel(\"Profit\", rotation=0, fontsize=18)\n",
    "plt.xticks(fontsize=8)\n",
    "save_fig(\"generated_data_plot\")\n",
    "plt.show()"
   ]
  },
  {
   "cell_type": "markdown",
   "metadata": {},
   "source": [
    "# Training with scikit_learn Linear Regression \n",
    "\n"
   ]
  },
  {
   "cell_type": "code",
   "execution_count": 266,
   "metadata": {},
   "outputs": [
    {
     "data": {
      "text/plain": [
       "LinearRegression()"
      ]
     },
     "execution_count": 266,
     "metadata": {},
     "output_type": "execute_result"
    }
   ],
   "source": [
    "# Write your code here\n",
    "\n",
    "# Import the train test split\n",
    "from sklearn.model_selection import train_test_split\n",
    "\n",
    "# Train Test Split, 80/20, setting random state to 42 to be consitent with the lab\n",
    "X_train, X_test, y_train, y_test = train_test_split(X, y, test_size = 0.20, random_state = 42)\n",
    "\n",
    "# Import Linear Regression\n",
    "from sklearn.linear_model import LinearRegression\n",
    "\n",
    "# Create a linear regression instance\n",
    "regressor = LinearRegression()\n",
    "\n",
    "# Train against the training set of data\n",
    "regressor.fit(X_train, y_train)"
   ]
  },
  {
   "cell_type": "markdown",
   "metadata": {},
   "source": [
    "# Prediction\n",
    "Now we can make predictions using the weights."
   ]
  },
  {
   "cell_type": "code",
   "execution_count": 267,
   "metadata": {
    "scrolled": true
   },
   "outputs": [
    {
     "data": {
      "text/plain": [
       "(array([-0.00115483]), array([[0.94421415]]))"
      ]
     },
     "execution_count": 267,
     "metadata": {},
     "output_type": "execute_result"
    }
   ],
   "source": [
    "# Write your code here\n",
    "\n",
    "# create a prediction set from the X test points\n",
    "y_pred = regressor.predict(X_test)\n",
    "\n",
    "# Get values of intercept and coefficient\n",
    "regressor.intercept_, regressor.coef_"
   ]
  },
  {
   "cell_type": "markdown",
   "metadata": {},
   "source": [
    "# Evaluation\n",
    "Best possible $R^{2}$ score  is 1.0. <br>"
   ]
  },
  {
   "cell_type": "code",
   "execution_count": 268,
   "metadata": {},
   "outputs": [
    {
     "data": {
      "text/plain": [
       "0.9134554891584079"
      ]
     },
     "execution_count": 268,
     "metadata": {},
     "output_type": "execute_result"
    }
   ],
   "source": [
    "# Calculating the R squared value\n",
    "# Write your code here\n",
    "\n",
    "# compute the R-Squared value using Y prediction vs Y Test points\n",
    "sklearn.metrics.r2_score(y_test, y_pred)"
   ]
  },
  {
   "cell_type": "markdown",
   "metadata": {},
   "source": [
    "# Linear regression using gradient descent\n",
    "Solve the same problem with gradient descent algorithm"
   ]
  },
  {
   "cell_type": "code",
   "execution_count": 269,
   "metadata": {},
   "outputs": [],
   "source": [
    "#Randomly generate starting weights\n",
    "weight = np.random.randn(2,1) \n",
    "\n",
    "# Add x0 = 1 for each instance\n",
    "X_train_b = np.c_[np.ones((800, 1)), X_train]\n",
    "\n",
    "# Set the learning rate\n",
    "alpha = 0.2\n",
    "\n",
    "# Define the number of iterations\n",
    "n_iterations = 1000\n",
    "\n",
    "# Set m to the size of the training data\n",
    "m = len(X_train_b)\n",
    "\n",
    "# Run for iterations\n",
    "for iteration in range(n_iterations):\n",
    "    \n",
    "    # Calulate the gradients\n",
    "    gradients = 1/m * X_train_b.T.dot(X_train_b.dot(weight) - y_train)\n",
    "    \n",
    "    # Update the Weights\n",
    "    weight = weight - alpha * gradients"
   ]
  },
  {
   "cell_type": "markdown",
   "metadata": {},
   "source": [
    "Print out the weight values"
   ]
  },
  {
   "cell_type": "code",
   "execution_count": 270,
   "metadata": {},
   "outputs": [
    {
     "name": "stdout",
     "output_type": "stream",
     "text": [
      "[[-0.00115483]\n",
      " [ 0.94421415]]\n"
     ]
    }
   ],
   "source": [
    "# Print the weights\n",
    "print(weight)"
   ]
  },
  {
   "cell_type": "markdown",
   "metadata": {},
   "source": [
    "Calculate the prediction for the test set"
   ]
  },
  {
   "cell_type": "code",
   "execution_count": 271,
   "metadata": {},
   "outputs": [],
   "source": [
    "# Add x0 = 1 for each test point\n",
    "X_test_b = np.c_[np.ones((200, 1)), X_test]\n",
    "\n",
    "# Run the dot product to predict the values\n",
    "y_predict = X_test_b.dot(weight)"
   ]
  },
  {
   "cell_type": "markdown",
   "metadata": {},
   "source": [
    "Calculate the R Squared Value"
   ]
  },
  {
   "cell_type": "code",
   "execution_count": 272,
   "metadata": {},
   "outputs": [
    {
     "data": {
      "text/plain": [
       "0.9134554891584079"
      ]
     },
     "execution_count": 272,
     "metadata": {},
     "output_type": "execute_result"
    }
   ],
   "source": [
    "# Calulcate the score\n",
    "sklearn.metrics.r2_score(y_test, y_pred)"
   ]
  },
  {
   "cell_type": "markdown",
   "metadata": {},
   "source": [
    "$R^{2}$ Analysis and reasoning:\n",
    "    \n",
    "While the value of $R^{2}$ is higher than in the prompt(around 0.80), it can be improved. The values were already scaled, so it shouldn't be due to a magnitude difference between X and Y. Upon looking at the data visualization, there are significant outliers visible in the plot from the beginning of the exercise. These outliers could be making the R-Square value lower since they are significantly far away from the trend of the data. My solution would be to normalize the data to the least amount of deviations. To do this, the data should be normalized to L1. To fully demonstrate the difference, any values used above have had an _n appended to them for readability and to ensure no data from the rest of the journal is being used in any way aside from the initial scaled_data variable. At the end, the $R^{2}$ is printed and should be significantly better."
   ]
  },
  {
   "cell_type": "markdown",
   "metadata": {},
   "source": [
    "Improve the $R^{2}$ Value"
   ]
  },
  {
   "cell_type": "code",
   "execution_count": 273,
   "metadata": {},
   "outputs": [
    {
     "name": "stdout",
     "output_type": "stream",
     "text": [
      "0.9723542455003182\n"
     ]
    }
   ],
   "source": [
    "# Normalize the data to L1\n",
    "normalized_data = sklearn.preprocessing.normalize(scaled_data, norm='l1')\n",
    "\n",
    "# Split data into X and Y\n",
    "X_norm = normalized_data[:, [0]]\n",
    "y_norm = normalized_data[:, [1]]\n",
    "\n",
    "# Create the train/test splits\n",
    "X_train_n, X_test_n, y_train_n, y_test_n = train_test_split(X_norm, y_norm, test_size = 0.20, random_state = 42)\n",
    "\n",
    "# Randomly generate starting weights\n",
    "weight = np.random.randn(2,1)  \n",
    "\n",
    "# Add x0 = 1 for each instance\n",
    "X_train_b_n = np.c_[np.ones((800, 1)), X_train_n]\n",
    "\n",
    "# Set the learning rate\n",
    "alpha = 0.2\n",
    "\n",
    "# Define the number of iterations\n",
    "n_iterations = 1000\n",
    "\n",
    "# Set m to the size of the training data\n",
    "m = len(X_train_b_n)\n",
    "\n",
    "# Run for iterations\n",
    "for iteration in range(n_iterations):\n",
    "    \n",
    "    # Calulate the gradients\n",
    "    gradients = 1/m * X_train_b_n.T.dot(X_train_b_n.dot(weight) - y_train_n)\n",
    "    \n",
    "    # Update the Weights\n",
    "    weight = weight - alpha * gradients\n",
    "\n",
    "# Add x0 = 1 for each test point\n",
    "X_test_b_n = np.c_[np.ones((200, 1)), X_test_n]\n",
    "\n",
    "# Run the dot product to predict the values\n",
    "y_predict_n = X_test_b_n.dot(weight)\n",
    "\n",
    "# Calulcate the score\n",
    "print(sklearn.metrics.r2_score(y_test_n, y_predict_n))"
   ]
  }
 ],
 "metadata": {
  "kernelspec": {
   "display_name": "Python 3 (ipykernel)",
   "language": "python",
   "name": "python3"
  },
  "language_info": {
   "codemirror_mode": {
    "name": "ipython",
    "version": 3
   },
   "file_extension": ".py",
   "mimetype": "text/x-python",
   "name": "python",
   "nbconvert_exporter": "python",
   "pygments_lexer": "ipython3",
   "version": "3.8.8"
  }
 },
 "nbformat": 4,
 "nbformat_minor": 4
}
