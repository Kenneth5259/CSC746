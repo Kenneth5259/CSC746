{
 "cells": [
  {
   "cell_type": "markdown",
   "metadata": {},
   "source": [
    "# Setup\n",
    "\n",
    "First, let's import a few common modules, ensure MatplotLib plots figures inline and prepare a function to save the figures. We also check that Python 3.5 or later is installed, as well as Scikit-Learn ≥0.20. You don't need to change any code in the following cell, just run it."
   ]
  },
  {
   "cell_type": "code",
   "execution_count": 83,
   "metadata": {},
   "outputs": [],
   "source": [
    "# Python ≥3.5 is required\n",
    "import sys\n",
    "assert sys.version_info >= (3, 5)\n",
    "\n",
    "# Scikit-Learn ≥0.20 is required\n",
    "import sklearn\n",
    "assert sklearn.__version__ >= \"0.20\"\n",
    "\n",
    "# Common imports\n",
    "import numpy as np\n",
    "import os\n",
    "\n",
    "# to make this notebook's output stable across runs\n",
    "np.random.seed(42)\n",
    "\n",
    "# To plot pretty figures\n",
    "%matplotlib inline\n",
    "import matplotlib as mpl\n",
    "import matplotlib.pyplot as plt\n",
    "mpl.rc('axes', labelsize=14)\n",
    "mpl.rc('xtick', labelsize=12)\n",
    "mpl.rc('ytick', labelsize=12)\n",
    "\n",
    "# Where to save the figures\n",
    "PROJECT_ROOT_DIR = \".\"\n",
    "CHAPTER_ID = \"training_linear_models\"\n",
    "IMAGES_PATH = os.path.join(PROJECT_ROOT_DIR, \"images\", CHAPTER_ID)\n",
    "os.makedirs(IMAGES_PATH, exist_ok=True)\n",
    "\n",
    "def save_fig(fig_id, tight_layout=True, fig_extension=\"png\", resolution=300):\n",
    "    path = os.path.join(IMAGES_PATH, fig_id + \".\" + fig_extension)\n",
    "    print(\"Saving figure\", fig_id)\n",
    "    if tight_layout:\n",
    "        plt.tight_layout()\n",
    "    plt.savefig(path, format=fig_extension, dpi=resolution)"
   ]
  },
  {
   "cell_type": "markdown",
   "metadata": {},
   "source": [
    "# Prepare randomly generated linear dataset\n",
    "The function that we used to generate the data is $y = 4 + 3x_{1} + noise$."
   ]
  },
  {
   "cell_type": "code",
   "execution_count": 96,
   "metadata": {},
   "outputs": [],
   "source": [
    "# Increase from 100 -> 1000\n",
    "X = 2 * np.random.rand(100, 1)\n",
    "y = 4 + 3 * X + np.random.randn(100, 1)"
   ]
  },
  {
   "cell_type": "markdown",
   "metadata": {},
   "source": [
    "# Visualize the dataset\n",
    "- Pyplot tutorial: https://matplotlib.org/stable/tutorials/introductory/pyplot.html <br>\n",
    "- \"b.\" means blue dots."
   ]
  },
  {
   "cell_type": "code",
   "execution_count": 97,
   "metadata": {
    "scrolled": true
   },
   "outputs": [
    {
     "name": "stdout",
     "output_type": "stream",
     "text": [
      "Saving figure generated_data_plot\n"
     ]
    },
    {
     "data": {
      "image/png": "[encoded data removed]",
      "text/plain": [
       "<Figure size 432x288 with 1 Axes>"
      ]
     },
     "metadata": {
      "needs_background": "light"
     },
     "output_type": "display_data"
    }
   ],
   "source": [
    "plt.plot(X, y, \"b.\")\n",
    "plt.xlabel(\"$x_1$\", fontsize=18)\n",
    "plt.ylabel(\"$y$\", rotation=0, fontsize=18)\n",
    "plt.axis([0, 2, 0, 15])\n",
    "save_fig(\"generated_data_plot\")\n",
    "plt.show()"
   ]
  },
  {
   "cell_type": "markdown",
   "metadata": {},
   "source": [
    "# Training with scikit_learn Linear Regression \n",
    "\n"
   ]
  },
  {
   "cell_type": "code",
   "execution_count": 98,
   "metadata": {},
   "outputs": [],
   "source": [
    "# Splitting the dataset into the Training set and Test set\n",
    "from sklearn.model_selection import train_test_split\n",
    "# Reducing test_size from 0.20 to 0.15 causing the training set to be 85% of the data  - undone for number 3\n",
    "X_train, X_test, y_train, y_test = train_test_split(X, y, test_size = 0.20, random_state = 42)"
   ]
  },
  {
   "cell_type": "code",
   "execution_count": 99,
   "metadata": {},
   "outputs": [
    {
     "data": {
      "text/plain": [
       "LinearRegression()"
      ]
     },
     "execution_count": 99,
     "metadata": {},
     "output_type": "execute_result"
    }
   ],
   "source": [
    "# Fitting Linear Regression to the Training set\n",
    "from sklearn.linear_model import LinearRegression\n",
    "\n",
    "lin_reg = LinearRegression()\n",
    "lin_reg.fit(X_train, y_train)"
   ]
  },
  {
   "cell_type": "code",
   "execution_count": 100,
   "metadata": {},
   "outputs": [
    {
     "data": {
      "text/plain": [
       "(array([4.19082109]), array([[2.86301462]]))"
      ]
     },
     "execution_count": 100,
     "metadata": {},
     "output_type": "execute_result"
    }
   ],
   "source": [
    "# Calculating the Intercept and the Coefficient\n",
    "lin_reg.intercept_, lin_reg.coef_"
   ]
  },
  {
   "cell_type": "markdown",
   "metadata": {},
   "source": [
    "We would have hoped for $w_{0} = 4$ (intercept) and $w_{1} = 3$ (coefficient) instead of 4.27 and 2.73. But it was close\n",
    "enough. The noise made it impossible to recover the exact parameters of the original function. \n",
    "# Prediction\n",
    "Now we can make predictions using the weights."
   ]
  },
  {
   "cell_type": "code",
   "execution_count": 101,
   "metadata": {
    "scrolled": true
   },
   "outputs": [
    {
     "data": {
      "text/plain": [
       "array([[7.52450813],\n",
       "       [4.8811421 ],\n",
       "       [8.15605526],\n",
       "       [6.26318553],\n",
       "       [8.0769051 ],\n",
       "       [4.59741305],\n",
       "       [8.90786891],\n",
       "       [9.43950124],\n",
       "       [7.01688323],\n",
       "       [7.12637147],\n",
       "       [9.38782822],\n",
       "       [7.6481715 ],\n",
       "       [5.76766174],\n",
       "       [6.38869375],\n",
       "       [6.65604466],\n",
       "       [4.68951681],\n",
       "       [6.74703229],\n",
       "       [8.76237026],\n",
       "       [9.87571933],\n",
       "       [8.122255  ]])"
      ]
     },
     "execution_count": 101,
     "metadata": {},
     "output_type": "execute_result"
    }
   ],
   "source": [
    "# Predicting the Test set results\n",
    "y_pred = lin_reg.predict(X_test)\n",
    "y_pred"
   ]
  },
  {
   "cell_type": "markdown",
   "metadata": {},
   "source": [
    "# Evaluation\n",
    "Best possible $R^{2}$ score  is 1.0. <br>\n",
    "$R^{2}$ score document: <br>\n",
    "    https://scikit-learn.org/stable/modules/generated/sklearn.metrics.r2_score.html"
   ]
  },
  {
   "cell_type": "code",
   "execution_count": 102,
   "metadata": {},
   "outputs": [
    {
     "data": {
      "text/plain": [
       "0.6946559372836616"
      ]
     },
     "execution_count": 102,
     "metadata": {},
     "output_type": "execute_result"
    }
   ],
   "source": [
    "# Calculating the R squared value\n",
    "from sklearn.metrics import r2_score\n",
    "r2_score(y_test, y_pred)"
   ]
  },
  {
   "cell_type": "markdown",
   "metadata": {},
   "source": [
    "# Calulate and plot the model predictions\n",
    "- Remember 0 is the lower bound of X values and 2 is the upper bound of X values.  \n",
    "- \"r-\" means red solid line."
   ]
  },
  {
   "cell_type": "code",
   "execution_count": 103,
   "metadata": {},
   "outputs": [],
   "source": [
    "X_new = np.array([[0], [2]])\n",
    "y_predict = lin_reg.predict(X_new)"
   ]
  },
  {
   "cell_type": "code",
   "execution_count": 104,
   "metadata": {},
   "outputs": [
    {
     "name": "stdout",
     "output_type": "stream",
     "text": [
      "Saving figure linear_model_predictions_plot\n"
     ]
    },
    {
     "data": {
      "image/png": "[encoded data removed]",
      "text/plain": [
       "<Figure size 432x288 with 1 Axes>"
      ]
     },
     "metadata": {
      "needs_background": "light"
     },
     "output_type": "display_data"
    }
   ],
   "source": [
    "plt.plot(X_new, y_predict, \"r-\", linewidth=2, label=\"Predictions\")\n",
    "plt.plot(X, y, \"b.\")\n",
    "plt.xlabel(\"$x_1$\", fontsize=18)\n",
    "plt.ylabel(\"$y$\", rotation=0, fontsize=18)\n",
    "plt.legend(loc=\"upper left\", fontsize=14)\n",
    "plt.axis([0, 2, 0, 15])\n",
    "save_fig(\"linear_model_predictions_plot\")\n",
    "plt.show()"
   ]
  },
  {
   "cell_type": "markdown",
   "metadata": {},
   "source": [
    "The LinearRegression class is based on the scipy.linalg.lstsq() function (the name stands for “least squares”), which you could call directly. This function computes $W = X^{+}y$, where $X^{+}$ is the pseudoinverse of X (specifically, the Moore-Penrose inverse). You can use np.linalg.pinv() to compute the pseudoinverse. I will not go through details of this method. If you are interested, you can do research on this topic by yourself. "
   ]
  },
  {
   "cell_type": "markdown",
   "metadata": {},
   "source": [
    "# Linear regression using gradient descent\n",
    "This method involves calculations over the full training set X, at each Gradient Descent step. As a result it is terribly slow on very large training sets. There are faster Gradient Descent algorithms available, such as Stochastic Gradient Descent and Mini-batch Gradient Descent. If you are interested in these algorithms, you can do some research by yourself. Gradient Descent scales well with the number of features; training a Linear Regression model when there are hundreds of thousands of features is much faster using Gradient Descent than using the the LinearRegression solver."
   ]
  },
  {
   "cell_type": "code",
   "execution_count": 129,
   "metadata": {},
   "outputs": [
    {
     "name": "stdout",
     "output_type": "stream",
     "text": [
      "[[ 0.24196227]\n",
      " [-1.91328024]]\n"
     ]
    }
   ],
   "source": [
    "alpha = 0.4  # learning rate\n",
    "n_iterations = 1000\n",
    "m = 100\n",
    "\n",
    "weight = np.random.randn(2,1)  # random initialization\n",
    "\n",
    "print(weight)\n",
    "# Changed Name to reflect training set, reduced array size to match for concatenation\n",
    "X_train_b = np.c_[np.ones((80, 1)), X_train]  # add x0 = 1 to each instance\n",
    "\n",
    "for iteration in range(n_iterations):\n",
    "    #updated all variable names to reflect training\n",
    "    gradients = 1/m * X_train_b.T.dot(X_train_b.dot(weight) - y_train)\n",
    "    weight = weight - alpha * gradients"
   ]
  },
  {
   "cell_type": "code",
   "execution_count": 128,
   "metadata": {},
   "outputs": [
    {
     "data": {
      "text/plain": [
       "array([[4.19082109],\n",
       "       [2.86301462]])"
      ]
     },
     "execution_count": 128,
     "metadata": {},
     "output_type": "execute_result"
    }
   ],
   "source": [
    "weight"
   ]
  },
  {
   "cell_type": "code",
   "execution_count": 124,
   "metadata": {},
   "outputs": [
    {
     "data": {
      "text/plain": [
       "array([[4.19082109],\n",
       "       [9.91685032]])"
      ]
     },
     "execution_count": 124,
     "metadata": {},
     "output_type": "execute_result"
    }
   ],
   "source": [
    "X_new_b = np.c_[np.ones((2, 1)), X_new]  # add x0 = 1 to each instance\n",
    "X_new_b.dot(weight)"
   ]
  },
  {
   "cell_type": "markdown",
   "metadata": {},
   "source": [
    "# Gradient Descent with various learning rates"
   ]
  },
  {
   "cell_type": "code",
   "execution_count": 116,
   "metadata": {},
   "outputs": [],
   "source": [
    "def plot_gradient_descent(weight, alpha):\n",
    "    m = len(X_b)\n",
    "    plt.plot(X, y, \"b.\")\n",
    "    n_iterations = 1000\n",
    "    for iteration in range(n_iterations):\n",
    "        if iteration < 10:\n",
    "            y_predict = X_new_b.dot(weight)\n",
    "            style = \"b-\" if iteration > 0 else \"r--\"\n",
    "            plt.plot(X_new, y_predict, style)\n",
    "        gradients = 1/m * X_b.T.dot(X_b.dot(weight) - y)\n",
    "        weight = weight - alpha * gradients\n",
    "    plt.xlabel(\"$x_1$\", fontsize=18)\n",
    "    plt.axis([0, 2, 0, 15])\n",
    "    plt.title(r\"$\\alpha = {}$\".format(alpha), fontsize=16)"
   ]
  },
  {
   "cell_type": "code",
   "execution_count": 117,
   "metadata": {},
   "outputs": [
    {
     "name": "stdout",
     "output_type": "stream",
     "text": [
      "Saving figure gradient_descent_plot\n"
     ]
    },
    {
     "data": {
      "image/png": "[encoded data removed]",
      "text/plain": [
       "<Figure size 720x288 with 3 Axes>"
      ]
     },
     "metadata": {
      "needs_background": "light"
     },
     "output_type": "display_data"
    }
   ],
   "source": [
    "np.random.seed(42)\n",
    "weight = np.random.randn(2,1)  # random initialization\n",
    "\n",
    "plt.figure(figsize=(10,4))\n",
    "plt.subplot(131); plot_gradient_descent(weight, alpha=0.02)\n",
    "plt.ylabel(\"$y$\", rotation=0, fontsize=18)\n",
    "plt.subplot(132); plot_gradient_descent(weight, alpha=0.2)\n",
    "plt.subplot(133); plot_gradient_descent(weight, alpha=1)\n",
    "\n",
    "save_fig(\"gradient_descent_plot\")\n",
    "plt.show()"
   ]
  },
  {
   "cell_type": "markdown",
   "metadata": {},
   "source": [
    "The above figure shows the first 10 steps of Gradient Descent using three different learning rates (the dashed line\n",
    "represents the starting point). <br>\n",
    "- On the left, the learning rate is too low: the algorithm will eventually reach the solution, but it will take a long time. \n",
    "- In the middle, the learning rate looks pretty good: in just a few iterations, it has already converged to the solution. \n",
    "- On the right, the learning rate is too high: the algorithm diverges, jumping all over the place and actually getting further and further away from the solution at every step.\n",
    "\n",
    "You may wonder how to set the number of iterations. If it is too low, you will still be far away from the optimal solution when the algorithm stops; but if it is too high, you will waste time while the model parameters do not change anymore. A simple solution is to set a very large number of iterations but to interrupt the algorithm when the gradient vector becomes tiny—that is, when its norm becomes smaller than a tiny number ϵ (called the tolerance)—because this happens when Gradient Descent has\n",
    "(almost) reached the minimum."
   ]
  },
  {
   "cell_type": "markdown",
   "metadata": {},
   "source": [
    "## Run the program and complete the following exercises. (20 points)\n",
    "1. (6 points) In the gradient descent model, you may noticed that we used the whole dataset to train the model. Modify the model and use only training dataset to train the model. What are the new weight values (intercept and coefficient)? Comparing to the linear regression solver, discuss the results.  \n",
    "2. (6 points) Change the size of the training set from 80% to 85% and run the linear regression solver again. What are the new weight values (intercept and coefficient) and the new $R^{2}$ value? Compare with the original values, do you think the model performance improved? Explain your conclusion.\n",
    "3. (6 points) Change the size of the training set back to 80% and change the size of the original dataset from 100 to 1000.  Run the linear regression solver again. What are the new weight values (intercept and coefficient) and the new $R^{2}$ value? Compare with the original values, do you think the model performance improved? Explain your conclusion.<br>\n",
    "**Note:** Please update the code directly according to the instructions.\n",
    "4. (2 points) Create a new Markdown field at the end of this file and put your answers in this field. Submit this file to the Blackboard. "
   ]
  },
  {
   "cell_type": "markdown",
   "metadata": {},
   "source": [
    "## Kenneth Carroll Answers:\n",
    "1. Gradient Descent Values:  Intercept = 4.14291332, Coefficient = 2.79932366 <br>\n",
    "   Linear Regression Values: Intercept = 4.14291332, Coefficient = 2.79932366 <br>\n",
    "\n",
    "Both approaches came to the same weights, and the change from the gradient descent model using all of X versus just X_train increased the accuracy compared to the coefficients in the original equation. The change in values for gradient descent may come from the portion of data that is omitted for testing, since values with greater variation from the model may have skewed the weights when the model was trained on the entire dataset. Since that data was no longer present, it matched the linear regression which was trained on the same data. I'd be curious to see if scaling and normalizing the data would give a similar effect if that is the case. \n",
    "\n",
    "2. Original Values:  Intercept = 4.14291332, Coeff = 2.79932366, $R^{2}$ = 0.8072059636181392 <br>\n",
    "   New Values:       Intercept = 4.14872355, Coeff = 2.78124316, $R^{2}$ = 0.7428577351426886 <br>\n",
    "\n",
    "Overall, with the addtional 5% of training data the accuracy of the model, and by extension its performance,  decreased. This can be seen with the Coefficient value moving further away from the actual value of 3, and the same can be said with the Intercept moving slightly further away from the actual value of 4. The change is reflected in the decrease in $R^{2}$ indicating that the model fits less with the testing data than with the previous training set. Could be a sign of overfitting the data to the training set, making it less robust for modeling unseen data.\n",
    "\n",
    "3. Original Values:  Intercept = 4.14291332, Coeff = 2.79932366, $R^{2}$ = 0.8072059636181392 <br>\n",
    "   New Values:       Intercept = 4.18985729, Coeff = 2.91204789, $R^{2}$ = 0.7733287803977649 <br>\n",
    "\n",
    "With the increased amount of data, I believe the model improved. The $R^{2}$ did decrease slightly, but if we look at the coefficient, it is significantly closer to the known parameter. The decrease in $R^{2}$ is most likely coming from additional outliers in the data - larger datasets can include more outliers than smaller datasets. We can also look at the increase slightly to the bias term, which may indicate that there are more points of data registering above trend compared to the smaller dataset. An L1 normalization should improve the $R^{2}$ if outliers are indeed the reason for the decrease in $R^{2}$."
   ]
  },
  {
   "cell_type": "code",
   "execution_count": null,
   "metadata": {},
   "outputs": [],
   "source": []
  }
 ],
 "metadata": {
  "kernelspec": {
   "display_name": "Python 3 (ipykernel)",
   "language": "python",
   "name": "python3"
  },
  "language_info": {
   "codemirror_mode": {
    "name": "ipython",
    "version": 3
   },
   "file_extension": ".py",
   "mimetype": "text/x-python",
   "name": "python",
   "nbconvert_exporter": "python",
   "pygments_lexer": "ipython3",
   "version": "3.8.8"
  }
 },
 "nbformat": 4,
 "nbformat_minor": 4
}
