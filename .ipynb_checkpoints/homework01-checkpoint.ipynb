{
 "cells": [
  {
   "cell_type": "markdown",
   "metadata": {},
   "source": [
    "# Import libraries\n",
    "\n",
    "- Please check the online documents for imported libraries if you are not familiar with them.<br>\n",
    "    https://docs.python.org/3/library/\n",
    "- You do not need to modify the following code cell, but you need to run this cell first before you start coding."
   ]
  },
  {
   "cell_type": "code",
   "execution_count": 14,
   "metadata": {},
   "outputs": [],
   "source": [
    "import collections\n",
    "import math\n",
    "from typing import Any, DefaultDict, List, Set, Tuple\n",
    "\n",
    "# Custom Types\n",
    "\n",
    "\"\"\"\n",
    "You can think of the keys of the defaultdict as representing the positions in the sparse vector,\n",
    "while the values represent the elements at those positions. Any key which is absent from the dict means that\n",
    "that element in the sparse vector is absent (is zero). Note that the type of the key used should not affect the\n",
    "algorithm. You can imagine the keys to be integer indices (e.x. 0, 1, 2) in the sparse vectors, but it should work\n",
    "the same way with arbitrary keys (e.x. \"red\", \"blue\", \"green\").\n",
    "\"\"\"\n",
    "SparseVector = DefaultDict[Any, float]\n",
    "Position = Tuple[int, int]"
   ]
  },
  {
   "cell_type": "markdown",
   "metadata": {},
   "source": [
    "## Problem 1 (3 points): Find the last word in a sentence in alphabetically order\n",
    "Given a string, return the word in the string that comes last lexicographically (i.e. the word that would come last when sorting). A word is defined by a maximal sequence of characters without whitespaces. You might find max() handy here.<br>\n",
    "**Note:** The datatypes that annotate parameters and return value are not required, but they clarify the function declaration and make the code easier to understand.  <br>\n",
    "\n",
    "Sample run:<br>\n",
    "Please input a sentence: I went to the zoo last weekend<br>\n",
    "The last word: zoo"
   ]
  },
  {
   "cell_type": "code",
   "execution_count": 15,
   "metadata": {},
   "outputs": [
    {
     "name": "stdout",
     "output_type": "stream",
     "text": [
      "this\n",
      "Cantelope\n",
      "quick\n"
     ]
    }
   ],
   "source": [
    "def find_alphabetically_last_word(text: str) -> str:\n",
    "    \n",
    "    # Define the function here\n",
    "    # Splitting text into word list\n",
    "    word_list = text.split(\" \")\n",
    "        \n",
    "    # Get the max of the list\n",
    "    return max(word_list)\n",
    "    \n",
    "# Run your testing code here\n",
    "test1 = find_alphabetically_last_word(\"Test this string\") # expect \"this\"\n",
    "test2 = find_alphabetically_last_word(\"Apple Banana Cantelope\") # expect \"Cantelope\"\n",
    "test3 = find_alphabetically_last_word(\"The quick brown fox\") # expect \"quick\"\n",
    "print(test1)\n",
    "print(test2)\n",
    "print(test3)\n"
   ]
  },
  {
   "cell_type": "markdown",
   "metadata": {},
   "source": [
    "## Problem 2 (4 points): Find the Euclidean distance between two locations\n",
    "Return the Euclidean distance between two locations, where the locations are pairs of numbers (e.g., (3, 5)).<br>\n",
    "The formula of the Euclidean distance between (a,b) and (c,d) is defined as follows: <br>\n",
    "    $distance = \\sqrt{(a-b)^2 + (c-d)^2} $ <br>\n",
    "**Note:** Please remember to round your result to one decimal place.\n",
    "\n",
    "Sample run:<br>\n",
    "The distance is 5.0"
   ]
  },
  {
   "cell_type": "code",
   "execution_count": 13,
   "metadata": {
    "scrolled": true
   },
   "outputs": [
    {
     "name": "stdout",
     "output_type": "stream",
     "text": [
      "The distance is 5.0\n"
     ]
    }
   ],
   "source": [
    "def euclidean_distance(loc1: Position, loc2: Position) -> float:\n",
    "\n",
    "    # Define the function here\n",
    "    \n",
    "    # pull equation values\n",
    "    a = loc1[0]\n",
    "    c = loc1[1]\n",
    "    b = loc2[0]\n",
    "    d = loc2[1]\n",
    "    \n",
    "    # Calculate value under radical\n",
    "    distance_root = (math.pow((a-b), 2) + math.pow((c-d), 2))\n",
    "    \n",
    "    # run the square root\n",
    "    distance = math.sqrt(distance_root)\n",
    "    \n",
    "    # Round to one decimal per instructions\n",
    "    distance = round(distance, 1)\n",
    "    \n",
    "    # Return the calculated distance\n",
    "    return distance\n",
    "    \n",
    "\n",
    "# Testing code is provided\n",
    "print(\"The distance is \" + str(euclidean_distance((0,0),(3,4))))"
   ]
  },
  {
   "cell_type": "markdown",
   "metadata": {},
   "source": [
    "## Problem 3 (5 points): Vector Calculation I\n",
    "Given two sparse vectors (vectors where most of the elements are zeros) |v1| and |v2|, each represented as collections.defaultdict(Any, float), return their dot product. \n",
    "\n",
    "**Note:** A sparse vector has most of its entries as 0\n",
    "\n",
    "Sample result:<br>\n",
    "if v1 is {'a': 5, 'c':6, 'b': 4}, v2 is {'b': 2, 'a': 3, 'd': 7}, then the dot product is $(5 \\times 3) + (4 \\times 2) + (6 \\times 0) + (0 \\times 7) = 23$."
   ]
  },
  {
   "cell_type": "code",
   "execution_count": 16,
   "metadata": {},
   "outputs": [
    {
     "name": "stdout",
     "output_type": "stream",
     "text": [
      "The dot_product is 23\n"
     ]
    }
   ],
   "source": [
    "def sparse_vector_dot_product(v1: SparseVector, v2: SparseVector) -> float:\n",
    "\n",
    "    # Define the function here \n",
    "    # Define the return value\n",
    "    sum = 0;\n",
    "    \n",
    "    # Iterate over keys in a vector - does not matter which one\n",
    "    for key in v1:\n",
    "        \n",
    "        # Only keys shared by the vectors contribute to the sum\n",
    "        if v1.get(key) is not None and v2.get(key) is not None:\n",
    "            \n",
    "            # Add to the sum\n",
    "            sum = sum + v1.get(key) * v2.get(key)\n",
    "            \n",
    "    # return the value\n",
    "    return sum\n",
    "    \n",
    "\n",
    "# Testing code is provided\n",
    "x = DefaultDict(float, {'a': 5, 'c':6, 'b': 4})\n",
    "y = DefaultDict(float, {'b': 2, 'a': 3, 'd': 7})\n",
    "print(\"The dot_product is \" +str(sparse_vector_dot_product(x,y)))"
   ]
  },
  {
   "cell_type": "markdown",
   "metadata": {},
   "source": [
    "## Problem 4 (6 points): Vector Calculation II\n",
    "Given two sparse vectors |v1| and |v2|, perform v1 += scale * v2. \n",
    "**Note:** This function should MODIFY v1 in-place, but not return it. Do not modify v2 in your implementation.\n",
    "\n",
    "Sample result:<br>\n",
    "if v1 is {'a': 5, 'c':6, 'b': 4}, v2 is {'b': 2, 'a': 3, 'd': 7}, and scale is 2, then v1's final value should be {'a': 11.0, 'c': 6.0, 'b': 8.0, 'd': 14.0}."
   ]
  },
  {
   "cell_type": "code",
   "execution_count": 17,
   "metadata": {},
   "outputs": [
    {
     "name": "stdout",
     "output_type": "stream",
     "text": [
      "{'a': 11.0, 'c': 6.0, 'b': 8.0, 'd': 14.0}\n"
     ]
    }
   ],
   "source": [
    "def increment_sparse_vector(v1: SparseVector, scale: float, v2: SparseVector) -> None:\n",
    "\n",
    "    # Define the function here\n",
    "    \n",
    "    # Cast all values in v1 to float in case not found in v2\n",
    "    for key in v1:\n",
    "        v1[key] = float(v1[key])\n",
    "    \n",
    "    # Iterate over v2 to update values in v1\n",
    "    for key in v2:\n",
    "        \n",
    "        # check if the key is shared by v1\n",
    "        if v1.get(key) is not None:\n",
    "            v1[key] = v1[key] + v2[key] * scale\n",
    "        else:\n",
    "            v1[key] = v2[key] * scale\n",
    "            \n",
    "\n",
    "# Define vectors for testing\n",
    "v1 = {'a': 5, 'c':6, 'b': 4}\n",
    "v2 = {'b': 2, 'a': 3, 'd': 7}\n",
    "increment_sparse_vector(v1, 2.0, v2)\n",
    "print(v1)"
   ]
  },
  {
   "cell_type": "markdown",
   "metadata": {},
   "source": [
    "## Problem 5 (6 points): Find singleton words\n",
    "Splits the string by whitespace and returns the set of words that occur exactly once. You might find it's useful to use collections.defaultdict(int).<br>\n",
    "\n",
    "Sample run:<br>\n",
    "{'now', 'without', 'you', \"I'm\"}"
   ]
  },
  {
   "cell_type": "code",
   "execution_count": 29,
   "metadata": {},
   "outputs": [
    {
     "name": "stdout",
     "output_type": "stream",
     "text": [
      "{'now', 'you', \"I'm\", 'without'}\n"
     ]
    }
   ],
   "source": [
    "def find_singleton_words(text: str) -> Set[str]:\n",
    "\n",
    "    # Define the function here\n",
    "    \n",
    "    # Create a defualt dict to handle keys\n",
    "    container = collections.defaultdict(int)\n",
    "    \n",
    "    # Define the set to be returned\n",
    "    singleton = set()\n",
    "    \n",
    "    # Split the text into words\n",
    "    words = text.split(\" \")\n",
    "    \n",
    "    # Iterate over the words\n",
    "    for word in words:\n",
    "        \n",
    "        # Creates a Key equal to the word and update value to reflect count\n",
    "        container[word] = container[word] + 1\n",
    "    \n",
    "    # Iterate over each key\n",
    "    for key in container:\n",
    "        \n",
    "        # If it occurs once, its a singleton\n",
    "        if container[key] == 1:\n",
    "            \n",
    "            # Add to the Set\n",
    "            singleton.add(key)\n",
    "            \n",
    "    # Return the set of singleton words\n",
    "    return singleton\n",
    "    \n",
    "    \n",
    "    \n",
    "# Testing code is provided\n",
    "print(find_singleton_words(\"blue blue my world is blue blue is my world now I'm without you\"))"
   ]
  },
  {
   "cell_type": "markdown",
   "metadata": {},
   "source": [
    "(1 point) Complete and test your code. Following the instruction to submit this file to the Blackboard."
   ]
  }
 ],
 "metadata": {
  "kernelspec": {
   "display_name": "Python 3 (ipykernel)",
   "language": "python",
   "name": "python3"
  },
  "language_info": {
   "codemirror_mode": {
    "name": "ipython",
    "version": 3
   },
   "file_extension": ".py",
   "mimetype": "text/x-python",
   "name": "python",
   "nbconvert_exporter": "python",
   "pygments_lexer": "ipython3",
   "version": "3.8.8"
  }
 },
 "nbformat": 4,
 "nbformat_minor": 4
}
