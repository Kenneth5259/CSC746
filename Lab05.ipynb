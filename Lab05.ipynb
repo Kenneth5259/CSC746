{
 "cells": [
  {
   "cell_type": "markdown",
   "metadata": {},
   "source": [
    "# Setup\n",
    "\n",
    "First, let's import a few common modules, ensure MatplotLib plots figures inline and prepare a function to save the figures. We also check that Python 3.5 or later is installed, as well as Scikit-Learn ≥0.20. You don't need to change any code in the following cell, just run it."
   ]
  },
  {
   "cell_type": "code",
   "execution_count": 85,
   "metadata": {},
   "outputs": [],
   "source": [
    "# Python ≥3.5 is required\n",
    "import sys\n",
    "assert sys.version_info >= (3, 5)\n",
    "\n",
    "# Scikit-Learn ≥0.20 is required\n",
    "import sklearn\n",
    "assert sklearn.__version__ >= \"0.20\"\n",
    "\n",
    "# Common imports\n",
    "import numpy as np\n",
    "import pandas as pd\n",
    "import os\n",
    "\n",
    "# to make this notebook's output stable across runs\n",
    "np.random.seed(42)\n",
    "\n",
    "# To plot pretty figures\n",
    "%matplotlib inline\n",
    "import matplotlib as mpl\n",
    "import matplotlib.pyplot as plt\n",
    "mpl.rc('axes', labelsize=14)\n",
    "mpl.rc('xtick', labelsize=12)\n",
    "mpl.rc('ytick', labelsize=12)\n",
    "\n",
    "# Other imports\n",
    "from sklearn.model_selection import train_test_split\n",
    "from sklearn.preprocessing import StandardScaler\n",
    "from sklearn.neighbors import KNeighborsClassifier\n",
    "from sklearn.metrics import confusion_matrix, classification_report\n",
    "\n",
    "# Where to save the figures\n",
    "PROJECT_ROOT_DIR = \".\"\n",
    "CHAPTER_ID = \"Classifications\"\n",
    "IMAGES_PATH = os.path.join(PROJECT_ROOT_DIR, \"images\", CHAPTER_ID)\n",
    "os.makedirs(IMAGES_PATH, exist_ok=True)\n",
    "\n",
    "def save_fig(fig_id, tight_layout=True, fig_extension=\"png\", resolution=300):\n",
    "    path = os.path.join(IMAGES_PATH, fig_id + \".\" + fig_extension)\n",
    "    print(\"Saving figure\", fig_id)\n",
    "    if tight_layout:\n",
    "        plt.tight_layout()\n",
    "    plt.savefig(path, format=fig_extension, dpi=resolution)"
   ]
  },
  {
   "cell_type": "markdown",
   "metadata": {},
   "source": [
    "## KNN - Predict whether a person will have diabetes or not\n",
    "### Read data "
   ]
  },
  {
   "cell_type": "code",
   "execution_count": 86,
   "metadata": {},
   "outputs": [
    {
     "data": {
      "text/html": [
       "<div>\n",
       "<style scoped>\n",
       "    .dataframe tbody tr th:only-of-type {\n",
       "        vertical-align: middle;\n",
       "    }\n",
       "\n",
       "    .dataframe tbody tr th {\n",
       "        vertical-align: top;\n",
       "    }\n",
       "\n",
       "    .dataframe thead th {\n",
       "        text-align: right;\n",
       "    }\n",
       "</style>\n",
       "<table border=\"1\" class=\"dataframe\">\n",
       "  <thead>\n",
       "    <tr style=\"text-align: right;\">\n",
       "      <th></th>\n",
       "      <th>Pregnancies</th>\n",
       "      <th>Glucose</th>\n",
       "      <th>BloodPressure</th>\n",
       "      <th>SkinThickness</th>\n",
       "      <th>Insulin</th>\n",
       "      <th>BMI</th>\n",
       "      <th>DiabetesPedigreeFunction</th>\n",
       "      <th>Age</th>\n",
       "      <th>Outcome</th>\n",
       "    </tr>\n",
       "  </thead>\n",
       "  <tbody>\n",
       "    <tr>\n",
       "      <th>0</th>\n",
       "      <td>6</td>\n",
       "      <td>148</td>\n",
       "      <td>72</td>\n",
       "      <td>35</td>\n",
       "      <td>0</td>\n",
       "      <td>33.6</td>\n",
       "      <td>0.627</td>\n",
       "      <td>50</td>\n",
       "      <td>1</td>\n",
       "    </tr>\n",
       "    <tr>\n",
       "      <th>1</th>\n",
       "      <td>1</td>\n",
       "      <td>85</td>\n",
       "      <td>66</td>\n",
       "      <td>29</td>\n",
       "      <td>0</td>\n",
       "      <td>26.6</td>\n",
       "      <td>0.351</td>\n",
       "      <td>31</td>\n",
       "      <td>0</td>\n",
       "    </tr>\n",
       "    <tr>\n",
       "      <th>2</th>\n",
       "      <td>8</td>\n",
       "      <td>183</td>\n",
       "      <td>64</td>\n",
       "      <td>0</td>\n",
       "      <td>0</td>\n",
       "      <td>23.3</td>\n",
       "      <td>0.672</td>\n",
       "      <td>32</td>\n",
       "      <td>1</td>\n",
       "    </tr>\n",
       "    <tr>\n",
       "      <th>3</th>\n",
       "      <td>1</td>\n",
       "      <td>89</td>\n",
       "      <td>66</td>\n",
       "      <td>23</td>\n",
       "      <td>94</td>\n",
       "      <td>28.1</td>\n",
       "      <td>0.167</td>\n",
       "      <td>21</td>\n",
       "      <td>0</td>\n",
       "    </tr>\n",
       "    <tr>\n",
       "      <th>4</th>\n",
       "      <td>0</td>\n",
       "      <td>137</td>\n",
       "      <td>40</td>\n",
       "      <td>35</td>\n",
       "      <td>168</td>\n",
       "      <td>43.1</td>\n",
       "      <td>2.288</td>\n",
       "      <td>33</td>\n",
       "      <td>1</td>\n",
       "    </tr>\n",
       "  </tbody>\n",
       "</table>\n",
       "</div>"
      ],
      "text/plain": [
       "   Pregnancies  Glucose  BloodPressure  SkinThickness  Insulin   BMI  \\\n",
       "0            6      148             72             35        0  33.6   \n",
       "1            1       85             66             29        0  26.6   \n",
       "2            8      183             64              0        0  23.3   \n",
       "3            1       89             66             23       94  28.1   \n",
       "4            0      137             40             35      168  43.1   \n",
       "\n",
       "   DiabetesPedigreeFunction  Age  Outcome  \n",
       "0                     0.627   50        1  \n",
       "1                     0.351   31        0  \n",
       "2                     0.672   32        1  \n",
       "3                     0.167   21        0  \n",
       "4                     2.288   33        1  "
      ]
     },
     "execution_count": 86,
     "metadata": {},
     "output_type": "execute_result"
    }
   ],
   "source": [
    "# Read data\n",
    "dataset = pd.read_csv('Lab05_data.csv')\n",
    "dataset.head()"
   ]
  },
  {
   "cell_type": "markdown",
   "metadata": {},
   "source": [
    "### Preprocess the data\n",
    "The values of some features can't be zeroes. We will replace the zeros with the mean of the feature values."
   ]
  },
  {
   "cell_type": "code",
   "execution_count": 87,
   "metadata": {},
   "outputs": [],
   "source": [
    "zero_not_accepted = ['Glucose', 'BloodPressure', 'SkinThickness', 'BMI', 'Insulin']\n",
    "\n",
    "for column in zero_not_accepted:\n",
    "    dataset[column] = dataset[column].replace(0, np.NaN)\n",
    "    mean = int(dataset[column].mean(skipna=True))\n",
    "    dataset[column] = dataset[column].replace(np.NaN, mean)"
   ]
  },
  {
   "cell_type": "markdown",
   "metadata": {},
   "source": [
    "Because the KNN classifier predicts the class of a given test observation by identifying the observations that are nearest to it, the scale of the variables matters. Any variables that are on a large scale will have a much larger effect on the distance between the observations, and hence on the KNN classifier, than variables that are on a small scale."
   ]
  },
  {
   "cell_type": "code",
   "execution_count": 88,
   "metadata": {},
   "outputs": [],
   "source": [
    "#Feature scaling\n",
    "X = dataset.iloc[:, 0:-1]\n",
    "y = dataset.iloc[:, -1]\n",
    "\n",
    "sc_X = StandardScaler()\n",
    "X = sc_X.fit_transform(X)"
   ]
  },
  {
   "cell_type": "markdown",
   "metadata": {},
   "source": [
    "### Prepare for the training and test sets"
   ]
  },
  {
   "cell_type": "code",
   "execution_count": 89,
   "metadata": {},
   "outputs": [],
   "source": [
    "# split dataset\n",
    "X_train, X_test, y_train, y_test = train_test_split(X, y, random_state=42, test_size=0.2)"
   ]
  },
  {
   "cell_type": "markdown",
   "metadata": {},
   "source": [
    "### Define the model\n",
    "Euclidean distance is selected. Select K: $\\sqrt{614} \\approx 25$. "
   ]
  },
  {
   "cell_type": "code",
   "execution_count": 90,
   "metadata": {},
   "outputs": [],
   "source": [
    "classifier = KNeighborsClassifier(n_neighbors=25, metric='euclidean')"
   ]
  },
  {
   "cell_type": "code",
   "execution_count": 91,
   "metadata": {},
   "outputs": [
    {
     "data": {
      "text/plain": [
       "KNeighborsClassifier(metric='euclidean', n_neighbors=25)"
      ]
     },
     "execution_count": 91,
     "metadata": {},
     "output_type": "execute_result"
    }
   ],
   "source": [
    "# Fit Model\n",
    "classifier.fit(X_train, y_train)"
   ]
  },
  {
   "cell_type": "markdown",
   "metadata": {},
   "source": [
    "### Predictions and Evaluations"
   ]
  },
  {
   "cell_type": "code",
   "execution_count": 92,
   "metadata": {},
   "outputs": [
    {
     "data": {
      "text/plain": [
       "array([0, 0, 0, 0, 0, 1, 0, 1, 1, 1, 0, 1, 0, 0, 0, 0, 0, 0, 1, 0, 0, 0,\n",
       "       1, 0, 1, 1, 0, 0, 0, 0, 1, 1, 1, 1, 1, 1, 1, 0, 0, 0, 0, 0, 1, 1,\n",
       "       0, 0, 1, 0, 0, 1, 0, 1, 1, 0, 0, 0, 0, 0, 0, 1, 1, 0, 0, 1, 0, 0,\n",
       "       0, 1, 0, 1, 1, 0, 0, 0, 0, 0, 0, 0, 0, 0, 0, 0, 0, 0, 0, 1, 1, 0,\n",
       "       0, 0, 0, 0, 0, 0, 0, 1, 1, 0, 0, 0, 1, 0, 1, 0, 1, 0, 0, 1, 0, 1,\n",
       "       0, 0, 0, 1, 0, 0, 1, 0, 0, 0, 0, 0, 0, 0, 0, 0, 1, 1, 1, 1, 1, 1,\n",
       "       0, 0, 1, 0, 0, 1, 1, 0, 0, 0, 0, 0, 0, 1, 0, 0, 0, 1, 0, 1, 0, 0])"
      ]
     },
     "execution_count": 92,
     "metadata": {},
     "output_type": "execute_result"
    }
   ],
   "source": [
    "# Predict the test set results\n",
    "y_pred = classifier.predict(X_test)\n",
    "y_pred"
   ]
  },
  {
   "cell_type": "code",
   "execution_count": 93,
   "metadata": {},
   "outputs": [
    {
     "name": "stdout",
     "output_type": "stream",
     "text": [
      "[[82 17]\n",
      " [21 34]]\n"
     ]
    }
   ],
   "source": [
    "# Evaluate Model\n",
    "cm = confusion_matrix(y_test, y_pred)\n",
    "print (cm)"
   ]
  },
  {
   "cell_type": "code",
   "execution_count": 94,
   "metadata": {},
   "outputs": [
    {
     "name": "stdout",
     "output_type": "stream",
     "text": [
      "              precision    recall  f1-score   support\n",
      "\n",
      "           0       0.80      0.83      0.81        99\n",
      "           1       0.67      0.62      0.64        55\n",
      "\n",
      "    accuracy                           0.75       154\n",
      "   macro avg       0.73      0.72      0.73       154\n",
      "weighted avg       0.75      0.75      0.75       154\n",
      "\n"
     ]
    }
   ],
   "source": [
    "print(classification_report(y_test,y_pred))"
   ]
  },
  {
   "cell_type": "markdown",
   "metadata": {},
   "source": [
    "### Choosing a K Value\n",
    "\n",
    "Let's use the elbow method to pick a good K Value:"
   ]
  },
  {
   "cell_type": "code",
   "execution_count": 95,
   "metadata": {},
   "outputs": [
    {
     "name": "stdout",
     "output_type": "stream",
     "text": [
      "25 Accuracy Score: 0.7532467532467533, 29 Accuracy Score: 0.7207792207792207\n",
      "25 F1 Score: 0.6415094339622642, 29 F1 Score: 0.5825242718446602\n",
      "25 Precision Score: 0.6666666666666666, 29 Precision Score: 0.625\n",
      "25 Recall Score: 0.6181818181818182, 29 Recall Score: 0.5454545454545454\n",
      "25 Accuracy Cross Validation Scores - Mean: 0.7655502392344498, Deviation: 0.04465771484175041\n",
      "29 Accuracy Cross Validation Scores - Mean: 0.7703349282296651, Deviation: 0.04962143859974059\n",
      "25 F1 Cross Validation Scores - Mean: 0.6263730788758191, Deviation: 0.06427344336355596\n",
      "29 F1 Cross Validation Scores - Mean: 0.6377128216261955, Deviation: 0.0769169156594329\n",
      "25 Recall Cross Validation Scores - Mean: 0.5632122507122507, Deviation: 0.04643272414326647\n",
      "29 Recall Cross Validation Scores - Mean: 0.5813746438746439, Deviation: 0.06540089697599885\n",
      "25 Precision Cross Validation Scores - Mean: 0.7087388679207901, Deviation: 0.10144270693849414\n",
      "29 Precision Cross Validation Scores - Mean: 0.7085454000614183, Deviation: 0.10212350110472102\n"
     ]
    }
   ],
   "source": [
    "from sklearn.model_selection import cross_val_score\n",
    "\n",
    "accuracy_rate = []\n",
    "\n",
    "# The following code will take some time\n",
    "for i in range(1,35):   \n",
    "    knn = KNeighborsClassifier(n_neighbors=i, metric='euclidean')\n",
    "    score=cross_val_score(knn,X_train,y_train,cv=8)\n",
    "    accuracy_rate.append(score.mean())\n",
    "\n",
    "   \n",
    "# Imports for testing k=25 vs k=29 for lab question on model evaluation\n",
    "\n",
    "from sklearn.metrics import accuracy_score, f1_score, precision_score, recall_score\n",
    "\n",
    "# K value 25\n",
    "knn_25 = KNeighborsClassifier(n_neighbors=25, metric='euclidean')\n",
    "acc_score_25=cross_val_score(knn_25,X_train,y_train,cv=8, scoring=\"accuracy\")\n",
    "f1_score_25 =cross_val_score(knn_25,X_train,y_train,cv=8, scoring=\"f1\")\n",
    "recall_score_25 =cross_val_score(knn_25,X_train,y_train,cv=8, scoring=\"recall\")\n",
    "pcn_score_25 =cross_val_score(knn_25,X_train,y_train,cv=8, scoring=\"precision\")\n",
    "knn_25.fit(X_train, y_train)\n",
    "pred_25 = knn_25.predict(X_test)\n",
    "acc_25 = accuracy_score(y_test, pred_25)\n",
    "f1_25 = f1_score(y_test, pred_25)\n",
    "pcn_25 = precision_score(y_test, pred_25)\n",
    "rcl_25 = recall_score(y_test, pred_25)\n",
    "\n",
    "# K value 29\n",
    "knn_29 = KNeighborsClassifier(n_neighbors=29, metric='euclidean')\n",
    "acc_score_29=cross_val_score(knn_29,X_train,y_train,cv=8)\n",
    "f1_score_29 =cross_val_score(knn_29,X_train,y_train,cv=8, scoring=\"f1\")\n",
    "recall_score_29 =cross_val_score(knn_29,X_train,y_train,cv=8, scoring=\"recall\")\n",
    "pcn_score_29 =cross_val_score(knn_29,X_train,y_train,cv=8, scoring=\"precision\")\n",
    "knn_29.fit(X_train, y_train)\n",
    "pred_29 = knn_29.predict(X_test)\n",
    "acc_29 = accuracy_score(y_test, pred_29)\n",
    "f1_29 = f1_score(y_test, pred_29)\n",
    "pcn_29 = precision_score(y_test, pred_29)\n",
    "rcl_29 = recall_score(y_test, pred_29)\n",
    "\n",
    "\n",
    "# Comparisons using train/test split\n",
    "print(\"25 Accuracy Score: %s, 29 Accuracy Score: %s\"%(acc_25, acc_29))\n",
    "print(\"25 F1 Score: %s, 29 F1 Score: %s\"%(f1_25, f1_29))\n",
    "print(\"25 Precision Score: %s, 29 Precision Score: %s\"%(pcn_25, pcn_29))\n",
    "print(\"25 Recall Score: %s, 29 Recall Score: %s\"%(rcl_25, rcl_29))\n",
    "\n",
    "# Comparisons using Cross Validtion Scores\n",
    "print(\"25 Accuracy Cross Validation Scores - Mean: %s, Deviation: %s\"%(acc_score_25.mean(), acc_score_25.std()))\n",
    "print(\"29 Accuracy Cross Validation Scores - Mean: %s, Deviation: %s\"%(acc_score_29.mean(), acc_score_29.std()))\n",
    "\n",
    "print(\"25 F1 Cross Validation Scores - Mean: %s, Deviation: %s\"%(f1_score_25.mean(), f1_score_25.std()))\n",
    "print(\"29 F1 Cross Validation Scores - Mean: %s, Deviation: %s\"%(f1_score_29.mean(), f1_score_29.std()))\n",
    "\n",
    "print(\"25 Recall Cross Validation Scores - Mean: %s, Deviation: %s\"%(recall_score_25.mean(), recall_score_25.std()))\n",
    "print(\"29 Recall Cross Validation Scores - Mean: %s, Deviation: %s\"%(recall_score_29.mean(), recall_score_29.std()))\n",
    "\n",
    "print(\"25 Precision Cross Validation Scores - Mean: %s, Deviation: %s\"%(pcn_score_25.mean(), pcn_score_25.std()))\n",
    "print(\"29 Precision Cross Validation Scores - Mean: %s, Deviation: %s\"%(pcn_score_29.mean(), pcn_score_29.std()))"
   ]
  },
  {
   "cell_type": "markdown",
   "metadata": {},
   "source": [
    "Scikit-Learn’s K-fold **cross-validation** feature is a good way to evaluate a model. The above code randomly splits the training set into 10 distinct subsets called folds, then it trains and evaluates the KNN model 10 times, picking a different fold for evaluation every time and training on the other 9 folds. The result is an array containing the 10 evaluation scores.\n",
    "### Visualize the fluctuation of the accuracy"
   ]
  },
  {
   "cell_type": "code",
   "execution_count": 96,
   "metadata": {},
   "outputs": [
    {
     "data": {
      "text/plain": [
       "Text(0, 0.5, 'Accuracy')"
      ]
     },
     "execution_count": 96,
     "metadata": {},
     "output_type": "execute_result"
    },
    {
     "data": {
      "image/png": "[encoded data removed]",
      "text/plain": [
       "<Figure size 720x432 with 1 Axes>"
      ]
     },
     "metadata": {
      "needs_background": "light"
     },
     "output_type": "display_data"
    }
   ],
   "source": [
    "plt.figure(figsize=(10,6))\n",
    "plt.plot(range(1,35),accuracy_rate,color='blue', linestyle='dashed', marker='o',\n",
    "         markerfacecolor='red', markersize=10)\n",
    "plt.title('Accuracy vs. K Value')\n",
    "plt.xlabel('K')\n",
    "plt.ylabel('Accuracy')"
   ]
  },
  {
   "cell_type": "markdown",
   "metadata": {},
   "source": [
    "### Run model with new K value"
   ]
  },
  {
   "cell_type": "code",
   "execution_count": 97,
   "metadata": {},
   "outputs": [
    {
     "name": "stdout",
     "output_type": "stream",
     "text": [
      "WITH K=29\n",
      "\n",
      "\n",
      "[[81 18]\n",
      " [25 30]]\n",
      "\n",
      "\n",
      "              precision    recall  f1-score   support\n",
      "\n",
      "           0       0.76      0.82      0.79        99\n",
      "           1       0.62      0.55      0.58        55\n",
      "\n",
      "    accuracy                           0.72       154\n",
      "   macro avg       0.69      0.68      0.69       154\n",
      "weighted avg       0.71      0.72      0.72       154\n",
      "\n"
     ]
    }
   ],
   "source": [
    "# NOW WITH K=29\n",
    "knn = KNeighborsClassifier(n_neighbors=29, metric='euclidean')\n",
    "\n",
    "knn.fit(X_train,y_train)\n",
    "pred = knn.predict(X_test)\n",
    "\n",
    "print('WITH K=29')\n",
    "print('\\n')\n",
    "print(confusion_matrix(y_test,pred))\n",
    "print('\\n')\n",
    "print(classification_report(y_test,pred))"
   ]
  },
  {
   "cell_type": "markdown",
   "metadata": {},
   "source": [
    "## Naïve Bayes - Text Classification\n",
    "### Load data from existing dataset "
   ]
  },
  {
   "cell_type": "code",
   "execution_count": 98,
   "metadata": {},
   "outputs": [],
   "source": [
    "from sklearn.datasets import fetch_20newsgroups\n",
    "\n",
    "#Loading data may take a while\n",
    "data = fetch_20newsgroups()"
   ]
  },
  {
   "cell_type": "code",
   "execution_count": 99,
   "metadata": {},
   "outputs": [
    {
     "data": {
      "text/plain": [
       "['alt.atheism',\n",
       " 'comp.graphics',\n",
       " 'comp.os.ms-windows.misc',\n",
       " 'comp.sys.ibm.pc.hardware',\n",
       " 'comp.sys.mac.hardware',\n",
       " 'comp.windows.x',\n",
       " 'misc.forsale',\n",
       " 'rec.autos',\n",
       " 'rec.motorcycles',\n",
       " 'rec.sport.baseball',\n",
       " 'rec.sport.hockey',\n",
       " 'sci.crypt',\n",
       " 'sci.electronics',\n",
       " 'sci.med',\n",
       " 'sci.space',\n",
       " 'soc.religion.christian',\n",
       " 'talk.politics.guns',\n",
       " 'talk.politics.mideast',\n",
       " 'talk.politics.misc',\n",
       " 'talk.religion.misc']"
      ]
     },
     "execution_count": 99,
     "metadata": {},
     "output_type": "execute_result"
    }
   ],
   "source": [
    "# Display news categories\n",
    "data.target_names"
   ]
  },
  {
   "cell_type": "markdown",
   "metadata": {},
   "source": [
    "### Prepare for the training and test sets"
   ]
  },
  {
   "cell_type": "code",
   "execution_count": 100,
   "metadata": {},
   "outputs": [],
   "source": [
    "# Split the dataset, train set and test set have already been defined.\n",
    "train = fetch_20newsgroups(subset='train')\n",
    "test = fetch_20newsgroups(subset='test')"
   ]
  },
  {
   "cell_type": "code",
   "execution_count": 101,
   "metadata": {},
   "outputs": [
    {
     "name": "stdout",
     "output_type": "stream",
     "text": [
      "From: bmdelane@quads.uchicago.edu (brian manning delaney)\n",
      "Subject: Brain Tumor Treatment (thanks)\n",
      "Reply-To: bmdelane@midway.uchicago.edu\n",
      "Organization: University of Chicago\n",
      "Lines: 12\n",
      "\n",
      "There were a few people who responded to my request for info on\n",
      "treatment for astrocytomas through email, whom I couldn't thank\n",
      "directly because of mail-bouncing probs (Sean, Debra, and Sharon).  So\n",
      "I thought I'd publicly thank everyone.\n",
      "\n",
      "Thanks! \n",
      "\n",
      "(I'm sure glad I accidentally hit \"rn\" instead of \"rm\" when I was\n",
      "trying to delete a file last September. \"Hmmm... 'News?' What's\n",
      "this?\"....)\n",
      "\n",
      "-Brian\n",
      "\n"
     ]
    }
   ],
   "source": [
    "# Display sample data\n",
    "print(train.data[6])"
   ]
  },
  {
   "cell_type": "markdown",
   "metadata": {},
   "source": [
    "### Import libraries to process text messages and train the Naïve Bayes model"
   ]
  },
  {
   "cell_type": "code",
   "execution_count": 102,
   "metadata": {},
   "outputs": [],
   "source": [
    "# TfidfVectorizer is used to process the text messages and weight the words based on the importance of the words\n",
    "# more info: https://scikit-learn.org/stable/modules/generated/sklearn.feature_extraction.text.TfidfVectorizer.html\n",
    "from sklearn.feature_extraction.text import TfidfVectorizer\n",
    "from sklearn.naive_bayes import MultinomialNB\n",
    "from sklearn.pipeline import make_pipeline\n",
    "\n",
    "# Creating a model based on Multinomial Naïve Bayes\n",
    "# pipeline is used to control the workflow\n",
    "model = make_pipeline(TfidfVectorizer(), MultinomialNB())\n",
    "\n",
    "# Training the model with train data\n",
    "model.fit(train.data, train.target)\n",
    "\n",
    "# Creating labels for the test data\n",
    "labels = model.predict(test.data)\n",
    "\n",
    "# Added for finding train/test split value\n",
    "#print(train.target.size / (train.target.size + test.target.size))"
   ]
  },
  {
   "cell_type": "markdown",
   "metadata": {},
   "source": [
    "### Predictions and Evaluations"
   ]
  },
  {
   "cell_type": "code",
   "execution_count": 103,
   "metadata": {
    "scrolled": false
   },
   "outputs": [
    {
     "data": {
      "image/png": "[encoded data removed]",
      "text/plain": [
       "<Figure size 432x288 with 1 Axes>"
      ]
     },
     "metadata": {},
     "output_type": "display_data"
    }
   ],
   "source": [
    "# import seaborn to display confusion matrix\n",
    "import seaborn as sns; sns.set()\n",
    "mat = confusion_matrix(test.target, labels)\n",
    "\n",
    "sns.heatmap(mat.T, square=True, annot=True, fmt='d', cbar=False,xticklabels=train.target_names, yticklabels=train.target_names)\n",
    "plt.xlabel('true label')\n",
    "plt.ylabel('predicted label');"
   ]
  },
  {
   "cell_type": "code",
   "execution_count": 104,
   "metadata": {
    "scrolled": false
   },
   "outputs": [
    {
     "name": "stdout",
     "output_type": "stream",
     "text": [
      "              precision    recall  f1-score   support\n",
      "\n",
      "           0       0.80      0.52      0.63       319\n",
      "           1       0.81      0.65      0.72       389\n",
      "           2       0.82      0.65      0.73       394\n",
      "           3       0.67      0.78      0.72       392\n",
      "           4       0.86      0.77      0.81       385\n",
      "           5       0.89      0.75      0.82       395\n",
      "           6       0.93      0.69      0.80       390\n",
      "           7       0.85      0.92      0.88       396\n",
      "           8       0.94      0.93      0.93       398\n",
      "           9       0.92      0.90      0.91       397\n",
      "          10       0.89      0.97      0.93       399\n",
      "          11       0.59      0.97      0.74       396\n",
      "          12       0.84      0.60      0.70       393\n",
      "          13       0.92      0.74      0.82       396\n",
      "          14       0.84      0.89      0.87       394\n",
      "          15       0.44      0.98      0.61       398\n",
      "          16       0.64      0.94      0.76       364\n",
      "          17       0.93      0.91      0.92       376\n",
      "          18       0.96      0.42      0.58       310\n",
      "          19       0.97      0.14      0.24       251\n",
      "\n",
      "    accuracy                           0.77      7532\n",
      "   macro avg       0.83      0.76      0.76      7532\n",
      "weighted avg       0.82      0.77      0.77      7532\n",
      "\n"
     ]
    }
   ],
   "source": [
    "# Print the classification report\n",
    "# Write your code here\n",
    "report = classification_report(test.target, labels)\n",
    "print(report)"
   ]
  },
  {
   "cell_type": "code",
   "execution_count": 105,
   "metadata": {},
   "outputs": [
    {
     "name": "stdout",
     "output_type": "stream",
     "text": [
      "rec.autos\n"
     ]
    }
   ],
   "source": [
    "# Predict the category for the following text message:\n",
    "# \"Which car is better? Ford or Buick\"\n",
    "\n",
    "# Retrieve the predicted index (extract array value since it is only 1 input)\n",
    "index = model.predict([\"Which car is better? Ford or Buick\"])[0]\n",
    "\n",
    "#Print the associated name\n",
    "print(data.target_names[index])"
   ]
  },
  {
   "cell_type": "markdown",
   "metadata": {},
   "source": [
    "## Run the program and complete the following exercises. (20 points)\n",
    "1. For the KNN example (Diabetes Diagnosis):\n",
    " - (2 points) When preprocessing the data, why we replace the zero-values with NaN instead of directly replace them with the mean values? \n",
    " - (2 points) Why do we need to normalize the variables for KNN algorithms?\n",
    " - (2 points) Why did we choose 25 as the initial number of neighbors(K)?  \n",
    " - (4 points) We used the elbow method to pick a new K value, 29. Compare the results of K=25 and K=29. Based on the accuracy, precision, recall, and F1Score scores, which model performed better? How would you explain the results?\n",
    "2. For the Naïve Bayes example (Text Classification),  \n",
    " - (2 points) What percentage of data is in the training set? How could you find out? \n",
    " - (1 points) Print the classification report for this model. (Complete the above cell with a proper command)\n",
    " - (4 points) Based on the classification report, answer the following questions:\n",
    "     1. What is the accuracy score?\n",
    "     2. The category name(s) with the highest precision score:\n",
    "     3. The category name(s) with the highest recall score:\n",
    "     4. The category name(s) with the highest F1Score score:\n",
    " - (2 points) Using the training model to predict the category for the text message -- \"Which car is better? Ford or Buick\". Print the **category name** to the screen.\n",
    "5. (1 points) Create a new Markdown field at the end of this file and put your answers in this field. Submit this file to the Blackboard. "
   ]
  },
  {
   "cell_type": "markdown",
   "metadata": {},
   "source": [
    "1. For the KNN example (Diabetes Diagnosis):\n",
    " - We replace zero-values with NaN instead of directly replacing them with mean values because KNN is based off of distance. By replacing thsoe values with the mean, you are directly modifying the actual distance that those points have to their neighboring points. This could cause a change in classification since data with missing values could be grouped closer together even if their other features may indicate a different classification.  \n",
    " - Since KNN uses distance algorithms, the scale of the data can affect the overall distance evaluated. One example is if you look at data the features are [0.7, 15000], and the neighbor has data [0.1, 14850] their euclidean distance is 150.0012, which is essentially the distance only between the second features. That first feature may realistically have more significance in classification but has no influence on the distance at the current scale.\n",
    " - The initial number for K was 25 since the square root of 614 is 24.78. It was the nearest odd-integer value. The square root of the number of datapoints is used as an efficient beginning selection for K value but can be tweaked to better fit the data depending on how the user would like to tradeoff between accuracy and runtime. An odd number of values to be polled prevents ties and confusion within the classifier. Had the value been closer to 576 (whose square root is exactly 24) 23 or 25 could have been chosen since the difference between ${23^2}$ and ${25^2}$ in comparison to ${24^2}$ is 47 and 49 points of data respectively.\n",
    " - Based purely on the accuracy, precision, recall and F1Score of the two models, using X_train for fitting and X_test to generate a prediction set to be compared agains y_test, k=25 performed better in each of these scores. If the goal is just to maximize these scores, then the KNN where K=25 is the winner. However, when we used the elbow method, that was not the goal for the validation. In the elbow method, we utilized cross validation with 8 folds. This means that for each training set we split them into 8 groups, with 1 being reserved for testing and in a way that each fold gets to serve as a test set during a given iteration. Then whichever scoring metric was used (Accuracy for the initial loop) is recorded and the mean & standard deviation between those score can be pulled as a means of evaluating the overall performance of that K value with less change of overfitting and still holding out a testing set for additional validation. With this methodology, K=29 is the better model with the scoring methods being accuracy, f1, and recall. K=29 and K=25 performed nearly identically in precision. So the way I would explain these results are that in a typical train/test split for evaluation, K=25 is the better model, but for a model with less chance of being overfit and for a model that may be more accurate when new data is introduced, K=29 is the better model. All code used for testing this was added to the elbow method cell.<br>\n",
    "\n",
    "2. For the Naïve Bayes example (Text Classification):\n",
    "- For the data, 60% is the training set. This was found by taking train.target.size / (train.target.size + test.target.size)\n",
    "- Cell Completed for Classification Report\n",
    "- Based on the classification report, answer the following questions:\n",
    "    1. The accuracy score is 0.7738980350504514\n",
    "    2. The category name(s) with the highest precision are:  talk.religion.misc\n",
    "    3. The category name(s) with the highest recall score: soc.religion.christian\n",
    "    4. The category name(s) with the highest F1Score score: rec.sport.hockey, rec.motorcycles\n",
    "- Using the training model to predict the category for the text message -- \"Which car is better? Ford or Buick\". Print the category name to the screen."
   ]
  },
  {
   "cell_type": "code",
   "execution_count": null,
   "metadata": {},
   "outputs": [],
   "source": []
  }
 ],
 "metadata": {
  "kernelspec": {
   "display_name": "Python 3 (ipykernel)",
   "language": "python",
   "name": "python3"
  },
  "language_info": {
   "codemirror_mode": {
    "name": "ipython",
    "version": 3
   },
   "file_extension": ".py",
   "mimetype": "text/x-python",
   "name": "python",
   "nbconvert_exporter": "python",
   "pygments_lexer": "ipython3",
   "version": "3.8.8"
  }
 },
 "nbformat": 4,
 "nbformat_minor": 2
}
