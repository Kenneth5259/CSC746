{
 "cells": [
  {
   "cell_type": "markdown",
   "id": "15ad8f45",
   "metadata": {},
   "source": [
    "# Regression for Modeling Medical Cost Predictions\n",
    "\n",
    "<h2>Preface</h2>\n",
    "<p>Medical costs are a constant threat to economic stability for a number of individuals in the United States. While there are various schools of thoughts and political ideas towards how medical costs should be, the fact remains that the costs exists and will remain for the foreseeable future. The problem is medical costs can vary for a variety of factors ranging from age and gender to region and genetic risk factors, which makes planning personal finances to account for these potential additional costs much more difficult. The task at hand will be to use data gathered for the purposes of determining insurance premiums for the purposes of determining insurance premiums for insurance companies, and use it as a way for the average consumer to estimate their expexted medical costs. The dataset in use comes from https://www.kaggle.com/noordeen/insurance-premium-prediction and will be used for the initial model creations until additional data is collected.</p>"
   ]
  },
  {
   "cell_type": "code",
   "execution_count": 165,
   "id": "39e0a8aa",
   "metadata": {},
   "outputs": [],
   "source": [
    "# Python ≥3.5 is required\n",
    "import sys\n",
    "assert sys.version_info >= (3, 5)\n",
    "\n",
    "# Scikit-Learn ≥0.20 is required\n",
    "import sklearn\n",
    "assert sklearn.__version__ >= \"0.20\"\n",
    "\n",
    "# Common imports\n",
    "import numpy as np\n",
    "import os\n",
    "import pandas as pd\n",
    "\n",
    "# to make this notebook's output stable across runs\n",
    "np.random.seed(42)\n",
    "\n",
    "# To plot pretty figures\n",
    "%matplotlib inline\n",
    "import matplotlib as mpl\n",
    "import matplotlib.pyplot as plt\n",
    "mpl.rc('axes', labelsize=14)\n",
    "mpl.rc('xtick', labelsize=12)\n",
    "mpl.rc('ytick', labelsize=12)\n",
    "\n",
    "# Where to save the figures\n",
    "PROJECT_ROOT_DIR = \".\"\n",
    "CHAPTER_ID = \"decision_trees\"\n",
    "IMAGES_PATH = os.path.join(PROJECT_ROOT_DIR, \"images\")\n",
    "os.makedirs(IMAGES_PATH, exist_ok=True)\n",
    "\n",
    "def save_fig(fig_id, tight_layout=True, fig_extension=\"png\", resolution=300):\n",
    "    path = os.path.join(IMAGES_PATH, fig_id + \".\" + fig_extension)\n",
    "    print(\"Saving figure\", fig_id)\n",
    "    if tight_layout:\n",
    "        plt.tight_layout()\n",
    "    plt.savefig(path, format=fig_extension, dpi=resolution)"
   ]
  },
  {
   "cell_type": "markdown",
   "id": "8aa5ab06",
   "metadata": {},
   "source": [
    "<p>Read data from the initial insurace dataset from Kaggle and display the head.</p>"
   ]
  },
  {
   "cell_type": "code",
   "execution_count": 166,
   "id": "72ff1478",
   "metadata": {},
   "outputs": [
    {
     "data": {
      "text/html": [
       "<div>\n",
       "<style scoped>\n",
       "    .dataframe tbody tr th:only-of-type {\n",
       "        vertical-align: middle;\n",
       "    }\n",
       "\n",
       "    .dataframe tbody tr th {\n",
       "        vertical-align: top;\n",
       "    }\n",
       "\n",
       "    .dataframe thead th {\n",
       "        text-align: right;\n",
       "    }\n",
       "</style>\n",
       "<table border=\"1\" class=\"dataframe\">\n",
       "  <thead>\n",
       "    <tr style=\"text-align: right;\">\n",
       "      <th></th>\n",
       "      <th>age</th>\n",
       "      <th>sex</th>\n",
       "      <th>bmi</th>\n",
       "      <th>children</th>\n",
       "      <th>smoker</th>\n",
       "      <th>region</th>\n",
       "      <th>expenses</th>\n",
       "    </tr>\n",
       "  </thead>\n",
       "  <tbody>\n",
       "    <tr>\n",
       "      <th>0</th>\n",
       "      <td>19</td>\n",
       "      <td>female</td>\n",
       "      <td>27.9</td>\n",
       "      <td>0</td>\n",
       "      <td>yes</td>\n",
       "      <td>southwest</td>\n",
       "      <td>16884.92</td>\n",
       "    </tr>\n",
       "    <tr>\n",
       "      <th>1</th>\n",
       "      <td>18</td>\n",
       "      <td>male</td>\n",
       "      <td>33.8</td>\n",
       "      <td>1</td>\n",
       "      <td>no</td>\n",
       "      <td>southeast</td>\n",
       "      <td>1725.55</td>\n",
       "    </tr>\n",
       "    <tr>\n",
       "      <th>2</th>\n",
       "      <td>28</td>\n",
       "      <td>male</td>\n",
       "      <td>33.0</td>\n",
       "      <td>3</td>\n",
       "      <td>no</td>\n",
       "      <td>southeast</td>\n",
       "      <td>4449.46</td>\n",
       "    </tr>\n",
       "    <tr>\n",
       "      <th>3</th>\n",
       "      <td>33</td>\n",
       "      <td>male</td>\n",
       "      <td>22.7</td>\n",
       "      <td>0</td>\n",
       "      <td>no</td>\n",
       "      <td>northwest</td>\n",
       "      <td>21984.47</td>\n",
       "    </tr>\n",
       "    <tr>\n",
       "      <th>4</th>\n",
       "      <td>32</td>\n",
       "      <td>male</td>\n",
       "      <td>28.9</td>\n",
       "      <td>0</td>\n",
       "      <td>no</td>\n",
       "      <td>northwest</td>\n",
       "      <td>3866.86</td>\n",
       "    </tr>\n",
       "  </tbody>\n",
       "</table>\n",
       "</div>"
      ],
      "text/plain": [
       "   age     sex   bmi  children smoker     region  expenses\n",
       "0   19  female  27.9         0    yes  southwest  16884.92\n",
       "1   18    male  33.8         1     no  southeast   1725.55\n",
       "2   28    male  33.0         3     no  southeast   4449.46\n",
       "3   33    male  22.7         0     no  northwest  21984.47\n",
       "4   32    male  28.9         0     no  northwest   3866.86"
      ]
     },
     "execution_count": 166,
     "metadata": {},
     "output_type": "execute_result"
    }
   ],
   "source": [
    "data =  pd.read_csv('insurance.csv')\n",
    "data.head()"
   ]
  },
  {
   "cell_type": "markdown",
   "id": "75603a20",
   "metadata": {},
   "source": [
    "<p>Load X and y</p>"
   ]
  },
  {
   "cell_type": "code",
   "execution_count": 167,
   "id": "aa474055",
   "metadata": {},
   "outputs": [],
   "source": [
    "y = data.iloc[:, -1]\n",
    "X = data.iloc[:, :-1]"
   ]
  },
  {
   "cell_type": "code",
   "execution_count": 168,
   "id": "a7696e4e",
   "metadata": {},
   "outputs": [
    {
     "data": {
      "image/png": "[encoded data removed]",
      "text/plain": [
       "<Figure size 504x504 with 1 Axes>"
      ]
     },
     "metadata": {
      "needs_background": "light"
     },
     "output_type": "display_data"
    },
    {
     "data": {
      "image/png": "[encoded data removed]",
      "text/plain": [
       "<Figure size 504x504 with 1 Axes>"
      ]
     },
     "metadata": {
      "needs_background": "light"
     },
     "output_type": "display_data"
    },
    {
     "data": {
      "image/png": "[encoded data removed]",
      "text/plain": [
       "<Figure size 504x504 with 1 Axes>"
      ]
     },
     "metadata": {
      "needs_background": "light"
     },
     "output_type": "display_data"
    },
    {
     "data": {
      "image/png": "[encoded data removed]",
      "text/plain": [
       "<Figure size 504x504 with 1 Axes>"
      ]
     },
     "metadata": {
      "needs_background": "light"
     },
     "output_type": "display_data"
    },
    {
     "data": {
      "image/png": "[encoded data removed]",
      "text/plain": [
       "<Figure size 504x504 with 1 Axes>"
      ]
     },
     "metadata": {
      "needs_background": "light"
     },
     "output_type": "display_data"
    },
    {
     "data": {
      "image/png": "[encoded data removed]",
      "text/plain": [
       "<Figure size 504x504 with 1 Axes>"
      ]
     },
     "metadata": {
      "needs_background": "light"
     },
     "output_type": "display_data"
    }
   ],
   "source": [
    "#plot for age distribution\n",
    "plt.figure(figsize=(7,7))\n",
    "plt.hist(X['age'], 15)\n",
    "plt.title('Age Distribution')\n",
    "plt.show()\n",
    "\n",
    "#plot for sex distribution\n",
    "plt.figure(figsize=(7,7))\n",
    "plt.hist(X['sex'], 2)\n",
    "plt.title('Sex Distribution')\n",
    "plt.show()\n",
    "\n",
    "#plot for bmi distribution\n",
    "plt.figure(figsize=(7,7))\n",
    "plt.hist(X['bmi'], 15)\n",
    "plt.title('BMI distribution')\n",
    "plt.show()\n",
    "\n",
    "#plot for children distribution\n",
    "plt.figure(figsize=(7,7))\n",
    "plt.hist(X['children'], 5)\n",
    "plt.title('Children distribution')\n",
    "plt.show()\n",
    "\n",
    "#plot for smoker distribution\n",
    "plt.figure(figsize=(7,7))\n",
    "plt.hist(X['smoker'], 2)\n",
    "plt.title('Smoker distribution')\n",
    "plt.show()\n",
    "\n",
    "#plot for Region distribution\n",
    "plt.figure(figsize=(7,7))\n",
    "plt.hist(X['region'], 2)\n",
    "plt.title('Region distribution')\n",
    "plt.show()\n"
   ]
  },
  {
   "cell_type": "markdown",
   "id": "ea65c8bc",
   "metadata": {},
   "source": [
    "<p>Visualize the distribution of parameters in matplotlib</p>"
   ]
  },
  {
   "cell_type": "markdown",
   "id": "a5f44bb4",
   "metadata": {},
   "source": [
    "<p>Preprocess the data by encoding categorical data (one hot) and scaling the data</p>"
   ]
  },
  {
   "cell_type": "code",
   "execution_count": 181,
   "id": "a995afd6",
   "metadata": {},
   "outputs": [
    {
     "data": {
      "text/html": [
       "<div>\n",
       "<style scoped>\n",
       "    .dataframe tbody tr th:only-of-type {\n",
       "        vertical-align: middle;\n",
       "    }\n",
       "\n",
       "    .dataframe tbody tr th {\n",
       "        vertical-align: top;\n",
       "    }\n",
       "\n",
       "    .dataframe thead th {\n",
       "        text-align: right;\n",
       "    }\n",
       "</style>\n",
       "<table border=\"1\" class=\"dataframe\">\n",
       "  <thead>\n",
       "    <tr style=\"text-align: right;\">\n",
       "      <th></th>\n",
       "      <th>age</th>\n",
       "      <th>bmi</th>\n",
       "      <th>children</th>\n",
       "      <th>sex_male</th>\n",
       "      <th>smoker_yes</th>\n",
       "      <th>region_northwest</th>\n",
       "      <th>region_southeast</th>\n",
       "      <th>region_southwest</th>\n",
       "    </tr>\n",
       "  </thead>\n",
       "  <tbody>\n",
       "    <tr>\n",
       "      <th>0</th>\n",
       "      <td>-1.438764</td>\n",
       "      <td>-0.453646</td>\n",
       "      <td>-0.908614</td>\n",
       "      <td>-1.010519</td>\n",
       "      <td>1.970587</td>\n",
       "      <td>-0.566418</td>\n",
       "      <td>-0.611324</td>\n",
       "      <td>1.765481</td>\n",
       "    </tr>\n",
       "    <tr>\n",
       "      <th>1</th>\n",
       "      <td>-1.509965</td>\n",
       "      <td>0.514186</td>\n",
       "      <td>-0.078767</td>\n",
       "      <td>0.989591</td>\n",
       "      <td>-0.507463</td>\n",
       "      <td>-0.566418</td>\n",
       "      <td>1.635795</td>\n",
       "      <td>-0.566418</td>\n",
       "    </tr>\n",
       "    <tr>\n",
       "      <th>2</th>\n",
       "      <td>-0.797954</td>\n",
       "      <td>0.382954</td>\n",
       "      <td>1.580926</td>\n",
       "      <td>0.989591</td>\n",
       "      <td>-0.507463</td>\n",
       "      <td>-0.566418</td>\n",
       "      <td>1.635795</td>\n",
       "      <td>-0.566418</td>\n",
       "    </tr>\n",
       "    <tr>\n",
       "      <th>3</th>\n",
       "      <td>-0.441948</td>\n",
       "      <td>-1.306650</td>\n",
       "      <td>-0.908614</td>\n",
       "      <td>0.989591</td>\n",
       "      <td>-0.507463</td>\n",
       "      <td>1.765481</td>\n",
       "      <td>-0.611324</td>\n",
       "      <td>-0.566418</td>\n",
       "    </tr>\n",
       "    <tr>\n",
       "      <th>4</th>\n",
       "      <td>-0.513149</td>\n",
       "      <td>-0.289606</td>\n",
       "      <td>-0.908614</td>\n",
       "      <td>0.989591</td>\n",
       "      <td>-0.507463</td>\n",
       "      <td>1.765481</td>\n",
       "      <td>-0.611324</td>\n",
       "      <td>-0.566418</td>\n",
       "    </tr>\n",
       "  </tbody>\n",
       "</table>\n",
       "</div>"
      ],
      "text/plain": [
       "        age       bmi  children  sex_male  smoker_yes  region_northwest  \\\n",
       "0 -1.438764 -0.453646 -0.908614 -1.010519    1.970587         -0.566418   \n",
       "1 -1.509965  0.514186 -0.078767  0.989591   -0.507463         -0.566418   \n",
       "2 -0.797954  0.382954  1.580926  0.989591   -0.507463         -0.566418   \n",
       "3 -0.441948 -1.306650 -0.908614  0.989591   -0.507463          1.765481   \n",
       "4 -0.513149 -0.289606 -0.908614  0.989591   -0.507463          1.765481   \n",
       "\n",
       "   region_southeast  region_southwest  \n",
       "0         -0.611324          1.765481  \n",
       "1          1.635795         -0.566418  \n",
       "2          1.635795         -0.566418  \n",
       "3         -0.611324         -0.566418  \n",
       "4         -0.611324         -0.566418  "
      ]
     },
     "execution_count": 181,
     "metadata": {},
     "output_type": "execute_result"
    }
   ],
   "source": [
    "from sklearn.preprocessing import StandardScaler\n",
    "scaler = StandardScaler()\n",
    "X = pd.get_dummies(X, drop_first=True)\n",
    "scaled_X = pd.DataFrame(scaler.fit_transform(X.values), index=X.index, columns=X.columns)\n",
    "scaled_X.head()"
   ]
  },
  {
   "cell_type": "markdown",
   "id": "573ea912",
   "metadata": {},
   "source": [
    "<p>Create the train test split</p>"
   ]
  },
  {
   "cell_type": "code",
   "execution_count": 182,
   "id": "53e7c1fe",
   "metadata": {},
   "outputs": [],
   "source": [
    "from sklearn.model_selection import train_test_split\n",
    "X_train, X_test, y_train, y_test = train_test_split(scaled_X, y, test_size = 0.20, random_state = 42)"
   ]
  },
  {
   "cell_type": "code",
   "execution_count": 183,
   "id": "df642bec",
   "metadata": {},
   "outputs": [
    {
     "data": {
      "text/plain": [
       "LinearRegression()"
      ]
     },
     "execution_count": 183,
     "metadata": {},
     "output_type": "execute_result"
    }
   ],
   "source": [
    "# Fitting Linear Regression to the Training set\n",
    "from sklearn.linear_model import LinearRegression\n",
    "\n",
    "lin_reg = LinearRegression()\n",
    "lin_reg.fit(X_train, y_train)"
   ]
  },
  {
   "cell_type": "code",
   "execution_count": 184,
   "id": "0d84d76c",
   "metadata": {},
   "outputs": [],
   "source": [
    "# Predicting the Test set results\n",
    "y_pred = lin_reg.predict(X_test)"
   ]
  },
  {
   "cell_type": "code",
   "execution_count": 185,
   "id": "02ba50ab",
   "metadata": {},
   "outputs": [
    {
     "name": "stdout",
     "output_type": "stream",
     "text": [
      "0.7835726930039905\n"
     ]
    }
   ],
   "source": [
    "# Calculating the R squared value\n",
    "from sklearn.metrics import r2_score\n",
    "lin_r2_score = r2_score(y_test, y_pred)\n",
    "print(lin_r2_score)"
   ]
  },
  {
   "cell_type": "code",
   "execution_count": null,
   "id": "9d5c04f5",
   "metadata": {},
   "outputs": [],
   "source": [
    "from sklearn.preprocessing import PolynomialFeatures\n",
    "from sklearn.pipeline import make_pipeline\n",
    "for degree in range(1,20):\n",
    "    polyreg = make_pipeline(PolynomialFeatures(degree), LinearRegression())\n",
    "    polyreg.fit(X_train, y_train)\n",
    "    y_pred = polyreg.predict(X_test)\n",
    "    print(r2_score(y_test, y_pred))"
   ]
  },
  {
   "cell_type": "code",
   "execution_count": null,
   "id": "ce2308bc",
   "metadata": {},
   "outputs": [],
   "source": [
    "from sklearn.tree import DecisionTreeRegressor\n",
    "for depth in range(1, 20):\n",
    "    dtree = DecisionTreeRegressor(max_depth=depth)\n",
    "    dtree.fit(X_train, y_train)\n",
    "    y_pred = dtree.predict(X_test)\n",
    "    print(r2_score(y_test, y_pred))"
   ]
  },
  {
   "cell_type": "code",
   "execution_count": null,
   "id": "e6f87116",
   "metadata": {},
   "outputs": [],
   "source": [
    "import seaborn as sns\n",
    "print(data.corr())"
   ]
  },
  {
   "cell_type": "code",
   "execution_count": null,
   "id": "4a4f2a75",
   "metadata": {},
   "outputs": [],
   "source": []
  }
 ],
 "metadata": {
  "kernelspec": {
   "display_name": "Python 3 (ipykernel)",
   "language": "python",
   "name": "python3"
  },
  "language_info": {
   "codemirror_mode": {
    "name": "ipython",
    "version": 3
   },
   "file_extension": ".py",
   "mimetype": "text/x-python",
   "name": "python",
   "nbconvert_exporter": "python",
   "pygments_lexer": "ipython3",
   "version": "3.8.5"
  }
 },
 "nbformat": 4,
 "nbformat_minor": 5
}
