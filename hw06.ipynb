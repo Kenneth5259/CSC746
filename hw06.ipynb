{
 "cells": [
  {
   "cell_type": "markdown",
   "id": "a496a0cc",
   "metadata": {},
   "source": [
    " Read data from the “hw06_data1.csv” and standardize the data."
   ]
  },
  {
   "cell_type": "code",
   "execution_count": 70,
   "id": "b119428e",
   "metadata": {},
   "outputs": [],
   "source": [
    "import pandas as pd\n",
    "from sklearn.preprocessing import StandardScaler\n",
    "\n",
    "# read in with pandas\n",
    "data_1 = pd.read_csv(\"hw06_data1.csv\")\n",
    "\n",
    "# init a scaler\n",
    "scaler = StandardScaler()\n",
    "\n",
    "# fit the data and save to respective values\n",
    "X_scaled = scaler.fit_transform(data_1.iloc[:, :-1].values)\n",
    "y = data_1.iloc[:, -1].values"
   ]
  },
  {
   "cell_type": "markdown",
   "id": "c4956f94",
   "metadata": {},
   "source": [
    "Splitting the dataset into the Training set (70%) and Test set (30%)."
   ]
  },
  {
   "cell_type": "code",
   "execution_count": 71,
   "id": "f817ea4e",
   "metadata": {},
   "outputs": [],
   "source": [
    "from sklearn.model_selection import train_test_split\n",
    "X_train, X_test, y_train, y_test = train_test_split(X_scaled, y, test_size=0.30, random_state=42)"
   ]
  },
  {
   "cell_type": "markdown",
   "id": "de27cf68",
   "metadata": {},
   "source": [
    "Use “Euclidean distance” for the KNN model and set the “K” value you choose."
   ]
  },
  {
   "cell_type": "code",
   "execution_count": 72,
   "id": "bd84cf89",
   "metadata": {},
   "outputs": [],
   "source": [
    "from sklearn.neighbors import KNeighborsClassifier\n",
    "\n",
    "# Using 27 since sqrt(700) is 26.4\n",
    "knn = KNeighborsClassifier(n_neighbors=27, metric='euclidean')\n",
    "\n",
    "# Fit the data\n",
    "knn.fit(X_train, y_train)\n",
    "\n",
    "# Get the predictions\n",
    "y_pred = knn.predict(X_test)"
   ]
  },
  {
   "cell_type": "markdown",
   "id": "6763a56c",
   "metadata": {},
   "source": [
    " Output the confusion matrix & classification report based on test dataset."
   ]
  },
  {
   "cell_type": "code",
   "execution_count": 73,
   "id": "fa860170",
   "metadata": {},
   "outputs": [
    {
     "name": "stdout",
     "output_type": "stream",
     "text": [
      "[[135   7]\n",
      " [  9 149]]\n",
      "              precision    recall  f1-score   support\n",
      "\n",
      "           0       0.94      0.95      0.94       142\n",
      "           1       0.96      0.94      0.95       158\n",
      "\n",
      "    accuracy                           0.95       300\n",
      "   macro avg       0.95      0.95      0.95       300\n",
      "weighted avg       0.95      0.95      0.95       300\n",
      "\n"
     ]
    }
   ],
   "source": [
    "# Import the confusion matrix and classification report\n",
    "from sklearn.metrics import confusion_matrix, classification_report\n",
    "\n",
    "# Create the matrix and report\n",
    "cm = confusion_matrix(y_test, y_pred)\n",
    "report = classification_report(y_test, y_pred)\n",
    "\n",
    "# Print them\n",
    "print(cm)\n",
    "print(report)"
   ]
  },
  {
   "cell_type": "markdown",
   "id": "9cc1ad3e",
   "metadata": {},
   "source": [
    "Use the elbow method to pick a good K Value:"
   ]
  },
  {
   "cell_type": "code",
   "execution_count": 74,
   "id": "bf09c83d",
   "metadata": {},
   "outputs": [],
   "source": [
    "# Import Cross Validation\n",
    "from sklearn.model_selection import cross_val_score\n",
    "\n",
    "# Define array for storing scores\n",
    "accuracies = []\n",
    "\n",
    "# Structure loop 1-40\n",
    "for i in range (1, 40):\n",
    "    \n",
    "    # Define a new knn with k=i\n",
    "    knn = KNeighborsClassifier(n_neighbors=i, metric='euclidean')\n",
    "    \n",
    "    # Get Cross Validation score for accuracy, 10 folds\n",
    "    score = cross_val_score(knn, X_train, y_train, cv=10, scoring=\"accuracy\")\n",
    "    \n",
    "    # Append to array\n",
    "    accuracies.append(score.mean())"
   ]
  },
  {
   "cell_type": "markdown",
   "id": "ba9e6661",
   "metadata": {},
   "source": [
    "Visualize the result."
   ]
  },
  {
   "cell_type": "code",
   "execution_count": 75,
   "id": "19a27751",
   "metadata": {},
   "outputs": [
    {
     "data": {
      "text/plain": [
       "Text(0, 0.5, 'Accuracy')"
      ]
     },
     "execution_count": 75,
     "metadata": {},
     "output_type": "execute_result"
    },
    {
     "data": {
      "image/png": "[encoded data removed]",
      "text/plain": [
       "<Figure size 720x432 with 1 Axes>"
      ]
     },
     "metadata": {
      "needs_background": "light"
     },
     "output_type": "display_data"
    }
   ],
   "source": [
    "# Initial Formatting and Import from previous labs\n",
    "%matplotlib inline\n",
    "import matplotlib as mpl\n",
    "import matplotlib.pyplot as plt\n",
    "mpl.rc('axes', labelsize=14)\n",
    "mpl.rc('xtick', labelsize=12)\n",
    "mpl.rc('ytick', labelsize=12)\n",
    "\n",
    "# Set the figure size\n",
    "plt.figure(figsize=(10,6))\n",
    "\n",
    "# Create the plot ( style and labels borrowed from lab)\n",
    "plt.plot(range(1,40),accuracies,color='blue', linestyle='dashed', marker='o',markerfacecolor='red', markersize=10)\n",
    "plt.title('Accuracy vs. K Value')\n",
    "plt.xlabel('K')\n",
    "plt.ylabel('Accuracy')"
   ]
  },
  {
   "cell_type": "markdown",
   "id": "57edbac8",
   "metadata": {},
   "source": [
    "What do you think the best range of K values are? Why? <br>\n",
    "\n",
    "I believe the best range for this model's K values would be 17 to 23. This comes from the visualization of the accuracies where the best rate was achieved at 23 with slightly above 94%, but from 17 onward the accuracty rate was always averaged around 93%, which given that higher K values result in longer runtime, there is not much of an accuracy tradeoff to reduce the resources needed for the classification. I believe the range of 9 to 11 also makes a strong arguement since you are dealing with 40% the K value for 93% accuracy instead of 94%. The higher the K value goes for this model there seems to be a pattern of diminishing returns so I cannot support any K value above 23 since you are increasing resouce consumption and decreasing accuracy."
   ]
  },
  {
   "cell_type": "markdown",
   "id": "d7348ca3",
   "metadata": {},
   "source": [
    "# Implement a Naïve Bayes model to classify Spam and Ham short messages. "
   ]
  },
  {
   "cell_type": "markdown",
   "id": "40cff21f",
   "metadata": {},
   "source": [
    "Load data from the “hw06_data2.txt”"
   ]
  },
  {
   "cell_type": "code",
   "execution_count": 76,
   "id": "0a342d46",
   "metadata": {},
   "outputs": [],
   "source": [
    "data_2 = pd.read_csv(\"hw06_data2.txt\", sep=\"\\t\", header=None)\n",
    "X = data_2.iloc[:, 1]\n",
    "y = data_2.iloc[:, 0]"
   ]
  },
  {
   "cell_type": "markdown",
   "id": "81ab3f8b",
   "metadata": {},
   "source": [
    "Splitting the dataset into the Training set (80%) and Test set (20%)"
   ]
  },
  {
   "cell_type": "code",
   "execution_count": 77,
   "id": "b1175666",
   "metadata": {},
   "outputs": [],
   "source": [
    "X_train, X_test, y_train, y_test = train_test_split(X, y, test_size=0.20, random_state=42)"
   ]
  },
  {
   "cell_type": "markdown",
   "id": "a2cd91d4",
   "metadata": {},
   "source": [
    "Setting up the Naïve Bayes model."
   ]
  },
  {
   "cell_type": "code",
   "execution_count": 78,
   "id": "8abe50e7",
   "metadata": {},
   "outputs": [],
   "source": [
    "from sklearn.feature_extraction.text import TfidfVectorizer\n",
    "from sklearn.naive_bayes import MultinomialNB\n",
    "from sklearn.pipeline import make_pipeline\n",
    "\n",
    "# Creating a model based on Multinomial Naïve Bayes\n",
    "# pipeline is used to control the workflow\n",
    "model = make_pipeline(TfidfVectorizer(), MultinomialNB())"
   ]
  },
  {
   "cell_type": "markdown",
   "id": "979d9fff",
   "metadata": {},
   "source": [
    "Train the Naïve Bayes model with the training set."
   ]
  },
  {
   "cell_type": "code",
   "execution_count": 79,
   "id": "a4ec6795",
   "metadata": {},
   "outputs": [
    {
     "data": {
      "text/plain": [
       "Pipeline(steps=[('tfidfvectorizer', TfidfVectorizer()),\n",
       "                ('multinomialnb', MultinomialNB())])"
      ]
     },
     "execution_count": 79,
     "metadata": {},
     "output_type": "execute_result"
    }
   ],
   "source": [
    "# Training the model with train data\n",
    "model.fit(X_train, y_train)"
   ]
  },
  {
   "cell_type": "markdown",
   "id": "e22b7f3e",
   "metadata": {},
   "source": [
    "Evaluate the model with the test set. Print out the confusion matrix and\n",
    "classification report"
   ]
  },
  {
   "cell_type": "code",
   "execution_count": 80,
   "id": "4c4b1aa0",
   "metadata": {},
   "outputs": [
    {
     "name": "stdout",
     "output_type": "stream",
     "text": [
      "[[966   0]\n",
      " [ 37 112]]\n",
      "              precision    recall  f1-score   support\n",
      "\n",
      "         ham       0.96      1.00      0.98       966\n",
      "        spam       1.00      0.75      0.86       149\n",
      "\n",
      "    accuracy                           0.97      1115\n",
      "   macro avg       0.98      0.88      0.92      1115\n",
      "weighted avg       0.97      0.97      0.96      1115\n",
      "\n",
      "966\n"
     ]
    }
   ],
   "source": [
    "# Creating predictions for the test data\n",
    "y_pred = model.predict(X_test)\n",
    "\n",
    "cm = confusion_matrix(y_test, y_pred)\n",
    "report = classification_report(y_test, y_pred)\n",
    "print(cm)\n",
    "print(report)\n",
    "\n",
    "x = 0\n",
    "for val in y_test:\n",
    "    if val == \"ham\":\n",
    "        x = x + 1\n",
    "print(x)\n",
    "        "
   ]
  },
  {
   "cell_type": "markdown",
   "id": "8efddbfa",
   "metadata": {},
   "source": [
    "Analyze the performance of the model based on the report<br>\n",
    "I believe the model performed well on the dataset, given the 97% accuracy and the lack of false ham identification (indicated by the FP portion of the confusion matrix and 1.0 recall value in the report) is the desired effect of a classifier like this. While 25% of spam was erroneously identified as ham, most users would prefer to delete spam then miss out on important information and a reduction of spam by 75% would be deemed as a successful model in my opinion. I am not sure what would best improve the model, but a reduction of spam misidentification would be a potential point of improvement. "
   ]
  },
  {
   "cell_type": "code",
   "execution_count": null,
   "id": "598b8832",
   "metadata": {},
   "outputs": [],
   "source": []
  },
  {
   "cell_type": "code",
   "execution_count": null,
   "id": "3a0f60b4",
   "metadata": {},
   "outputs": [],
   "source": []
  },
  {
   "cell_type": "code",
   "execution_count": null,
   "id": "132882c3",
   "metadata": {},
   "outputs": [],
   "source": []
  }
 ],
 "metadata": {
  "kernelspec": {
   "display_name": "Python 3 (ipykernel)",
   "language": "python",
   "name": "python3"
  },
  "language_info": {
   "codemirror_mode": {
    "name": "ipython",
    "version": 3
   },
   "file_extension": ".py",
   "mimetype": "text/x-python",
   "name": "python",
   "nbconvert_exporter": "python",
   "pygments_lexer": "ipython3",
   "version": "3.8.8"
  }
 },
 "nbformat": 4,
 "nbformat_minor": 5
}
