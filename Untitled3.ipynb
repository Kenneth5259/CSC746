{
 "cells": [
  {
   "cell_type": "markdown",
   "id": "60283d87",
   "metadata": {},
   "source": [
    " Read data from the “hw06_data1.csv” and standardize the data."
   ]
  },
  {
   "cell_type": "code",
   "execution_count": 2,
   "id": "a261cd27",
   "metadata": {},
   "outputs": [
    {
     "name": "stdout",
     "output_type": "stream",
     "text": [
      "          WTT       PTI       EQW       SBI       LQE       QWG       FDJ  \\\n",
      "0    0.913917  1.162073  0.567946  0.755464  0.780862  0.352608  0.759697   \n",
      "1    0.635632  1.003722  0.535342  0.825645  0.924109  0.648450  0.675334   \n",
      "2    0.721360  1.201493  0.921990  0.855595  1.526629  0.720781  1.626351   \n",
      "3    1.234204  1.386726  0.653046  0.825624  1.142504  0.875128  1.409708   \n",
      "4    1.279491  0.949750  0.627280  0.668976  1.232537  0.703727  1.115596   \n",
      "..        ...       ...       ...       ...       ...       ...       ...   \n",
      "995  1.010953  1.034006  0.853116  0.622460  1.036610  0.586240  0.746811   \n",
      "996  0.575529  0.955786  0.941835  0.792882  1.414277  1.269540  1.055928   \n",
      "997  1.135470  0.982462  0.781905  0.916738  0.901031  0.884738  0.386802   \n",
      "998  1.084894  0.861769  0.407158  0.665696  1.608612  0.943859  0.855806   \n",
      "999  0.837460  0.961184  0.417006  0.799784  0.934399  0.424762  0.778234   \n",
      "\n",
      "          PJF       HQE       NXJ  TARGET CLASS  \n",
      "0    0.643798  0.879422  1.231409             1  \n",
      "1    1.013546  0.621552  1.492702             0  \n",
      "2    1.154483  0.957877  1.285597             0  \n",
      "3    1.380003  1.522692  1.153093             1  \n",
      "4    0.646691  1.463812  1.419167             1  \n",
      "..        ...       ...       ...           ...  \n",
      "995  0.319752  1.117340  1.348517             1  \n",
      "996  0.713193  0.958684  1.663489             0  \n",
      "997  0.389584  0.919191  1.385504             1  \n",
      "998  1.061338  1.277456  1.188063             1  \n",
      "999  0.907962  1.257190  1.364837             1  \n",
      "\n",
      "[1000 rows x 11 columns]\n"
     ]
    }
   ],
   "source": [
    "import pandas as pd\n",
    "data_1 = pd.read_csv(\"hw06_data1.csv\")\n",
    "print(data_1)"
   ]
  },
  {
   "cell_type": "code",
   "execution_count": null,
   "id": "a28f445c",
   "metadata": {},
   "outputs": [],
   "source": []
  }
 ],
 "metadata": {
  "kernelspec": {
   "display_name": "Python 3 (ipykernel)",
   "language": "python",
   "name": "python3"
  },
  "language_info": {
   "codemirror_mode": {
    "name": "ipython",
    "version": 3
   },
   "file_extension": ".py",
   "mimetype": "text/x-python",
   "name": "python",
   "nbconvert_exporter": "python",
   "pygments_lexer": "ipython3",
   "version": "3.8.8"
  }
 },
 "nbformat": 4,
 "nbformat_minor": 5
}
